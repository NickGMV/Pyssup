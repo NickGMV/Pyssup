{
 "cells": [
  {
   "cell_type": "markdown",
   "metadata": {},
   "source": [
    "# Cleaning and joining\n",
    "\n",
    "\n",
    "Before you start I recommend drag and dropping two csv data sets in to THIS folder remember python can find files in any location but using ther same folder is easiest.\n",
    "\n",
    "Follow the instructions to build an ideal first python journal"
   ]
  },
  {
   "cell_type": "markdown",
   "metadata": {},
   "source": [
    "#### 1. Import Pandas and other libraries (numpy, matplotlib.pyplot, seaborn etc) "
   ]
  },
  {
   "cell_type": "code",
   "execution_count": null,
   "metadata": {},
   "outputs": [],
   "source": []
  },
  {
   "cell_type": "markdown",
   "metadata": {},
   "source": [
    "#### 2. Use pandas to read your two or more data sets pd.read_csv() or pd.read_table(), give them each a name that is memorable and descriptive. Use the head() function to get a look at the fields and describe them"
   ]
  },
  {
   "cell_type": "code",
   "execution_count": null,
   "metadata": {},
   "outputs": [],
   "source": []
  },
  {
   "cell_type": "markdown",
   "metadata": {},
   "source": [
    "#### 3. Use the describe function of Pandas or .agg to find summary stats on your datasets"
   ]
  },
  {
   "cell_type": "code",
   "execution_count": null,
   "metadata": {},
   "outputs": [],
   "source": []
  },
  {
   "cell_type": "markdown",
   "metadata": {},
   "source": [
    "#### * Bonus plot a histogram using hist() and comment on the distributions of fields in your data"
   ]
  },
  {
   "cell_type": "code",
   "execution_count": null,
   "metadata": {},
   "outputs": [],
   "source": []
  },
  {
   "cell_type": "markdown",
   "metadata": {},
   "source": [
    "#### 4. Use isnull(),dropna(),value_counts() etc to find and comment on your nulls "
   ]
  },
  {
   "cell_type": "code",
   "execution_count": null,
   "metadata": {},
   "outputs": [],
   "source": []
  },
  {
   "cell_type": "markdown",
   "metadata": {},
   "source": [
    "##### 5. Use fillna() to deal with nulls and .apply() to clean/reformat data on a column by column basis"
   ]
  },
  {
   "cell_type": "code",
   "execution_count": null,
   "metadata": {},
   "outputs": [],
   "source": []
  },
  {
   "cell_type": "markdown",
   "metadata": {},
   "source": [
    "#### 6. Once you have cleaned your data join or union, Or both using .merge() and/or .concat()"
   ]
  },
  {
   "cell_type": "code",
   "execution_count": null,
   "metadata": {},
   "outputs": [],
   "source": []
  },
  {
   "cell_type": "markdown",
   "metadata": {},
   "source": [
    "#### * Now your data is cleaned you  may want to experiment with some visualisations, using boxplots .boxplot(), or other visualisations using .plot()"
   ]
  },
  {
   "cell_type": "markdown",
   "metadata": {},
   "source": [
    "#### 7. use the to_csv() or to_excel function of Pandas to export your results and\n",
    "\n",
    "\n",
    "a) To make it a mini project share with an appropriate Stakeholder, it could be a teammate your LM or the person who requested work on the data.\n",
    "\n",
    "b) To make it a reflective journal comment on the skills you learnt and whether or not thi s could be applied to more of your data. In particular think about if you have any routine data work that could be improved by this."
   ]
  },
  {
   "cell_type": "markdown",
   "metadata": {},
   "source": [
    "## * Bonus incorporate statistical test such as t-test (talk to your coach)"
   ]
  },
  {
   "cell_type": "code",
   "execution_count": null,
   "metadata": {},
   "outputs": [],
   "source": []
  }
 ],
 "metadata": {
  "kernelspec": {
   "display_name": "Python 3",
   "language": "python",
   "name": "python3"
  },
  "language_info": {
   "codemirror_mode": {
    "name": "ipython",
    "version": 3
   },
   "file_extension": ".py",
   "mimetype": "text/x-python",
   "name": "python",
   "nbconvert_exporter": "python",
   "pygments_lexer": "ipython3",
   "version": "3.8.5"
  }
 },
 "nbformat": 4,
 "nbformat_minor": 4
}
