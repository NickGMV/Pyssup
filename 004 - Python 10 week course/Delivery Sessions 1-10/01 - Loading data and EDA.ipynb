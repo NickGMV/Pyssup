{
 "cells": [
  {
   "cell_type": "code",
   "execution_count": 1,
   "metadata": {},
   "outputs": [],
   "source": [
    "# Make sure this is commented in VS code\n",
    "#exec('''import urllib; exec(urllib.request.urlopen('https://raw.githubusercontent.com/NickGMV/visual-tools/main/visual-aids-jupyter8.txt').read())''')"
   ]
  },
  {
   "cell_type": "markdown",
   "metadata": {},
   "source": [
    "<hr style = \"height:5px; background-color: blue; border-color:blue;\">\n",
    "<hr style = \"height:5px; background-color: #89CFF0; border-color:#89CFF0;\">\n",
    "<hr style = \"height:5px; background-color: black; border-color:black;\">\n",
    "\n",
    "### 10 weeks of Python - Week 1 \n",
    "\n",
    "# Loading data and EDA\n",
    "\n",
    "<hr style = \"height:5px; background-color: blue; border-color:blue;\">\n",
    "<hr style = \"height:5px; background-color: #89CFF0; border-color:#89CFF0;\">\n",
    "<hr style = \"height:5px; background-color: black; border-color:black;\">"
   ]
  },
  {
   "cell_type": "markdown",
   "metadata": {},
   "source": [
    "### Imports"
   ]
  },
  {
   "cell_type": "code",
   "execution_count": 2,
   "metadata": {},
   "outputs": [],
   "source": [
    "# always Start with imports\n",
    "import pandas as pd "
   ]
  },
  {
   "cell_type": "markdown",
   "metadata": {},
   "source": [
    "### Loading data and paths\n",
    "\n",
    "We will load our data using read_csv in pandas, to load your data you will need to know its path a path is effectively the directions to your data, python can iether start at your python file and navigate fom there (relative), Or start at the root of your harddrive and navigate from there (absolute), Python can also navigate and find data online."
   ]
  },
  {
   "cell_type": "code",
   "execution_count": 3,
   "metadata": {},
   "outputs": [
    {
     "data": {
      "text/html": [
       "<div>\n",
       "<style scoped>\n",
       "    .dataframe tbody tr th:only-of-type {\n",
       "        vertical-align: middle;\n",
       "    }\n",
       "\n",
       "    .dataframe tbody tr th {\n",
       "        vertical-align: top;\n",
       "    }\n",
       "\n",
       "    .dataframe thead th {\n",
       "        text-align: right;\n",
       "    }\n",
       "</style>\n",
       "<table border=\"1\" class=\"dataframe\">\n",
       "  <thead>\n",
       "    <tr style=\"text-align: right;\">\n",
       "      <th></th>\n",
       "      <th>couuntry</th>\n",
       "      <th>child_mort</th>\n",
       "      <th>exports</th>\n",
       "      <th>health</th>\n",
       "      <th>imports</th>\n",
       "      <th>income</th>\n",
       "      <th>inflation</th>\n",
       "      <th>life_expec</th>\n",
       "      <th>total_fer</th>\n",
       "      <th>gdpp</th>\n",
       "    </tr>\n",
       "  </thead>\n",
       "  <tbody>\n",
       "    <tr>\n",
       "      <th>0</th>\n",
       "      <td>Afghanistan</td>\n",
       "      <td>90.2</td>\n",
       "      <td>10</td>\n",
       "      <td>7.58</td>\n",
       "      <td>44.9</td>\n",
       "      <td>1610.0</td>\n",
       "      <td>9.44</td>\n",
       "      <td>56.2</td>\n",
       "      <td>5.82</td>\n",
       "      <td>553</td>\n",
       "    </tr>\n",
       "    <tr>\n",
       "      <th>1</th>\n",
       "      <td>Albania</td>\n",
       "      <td>16.6</td>\n",
       "      <td>28</td>\n",
       "      <td>6.55</td>\n",
       "      <td>48.6</td>\n",
       "      <td>9930.0</td>\n",
       "      <td>4.49</td>\n",
       "      <td>76.3</td>\n",
       "      <td>1.65</td>\n",
       "      <td>4090</td>\n",
       "    </tr>\n",
       "    <tr>\n",
       "      <th>2</th>\n",
       "      <td>Algeria</td>\n",
       "      <td>27.3</td>\n",
       "      <td>38.4</td>\n",
       "      <td>4.17</td>\n",
       "      <td>31.4</td>\n",
       "      <td>12900.0</td>\n",
       "      <td>16.10</td>\n",
       "      <td>76.5</td>\n",
       "      <td>2.89</td>\n",
       "      <td>4460</td>\n",
       "    </tr>\n",
       "    <tr>\n",
       "      <th>3</th>\n",
       "      <td>Angola</td>\n",
       "      <td>::</td>\n",
       "      <td>::</td>\n",
       "      <td>::</td>\n",
       "      <td>::</td>\n",
       "      <td>5900.0</td>\n",
       "      <td>22.40</td>\n",
       "      <td>60.1</td>\n",
       "      <td>6.16</td>\n",
       "      <td>3530</td>\n",
       "    </tr>\n",
       "    <tr>\n",
       "      <th>4</th>\n",
       "      <td>Antigua and Barbuda</td>\n",
       "      <td>10.3</td>\n",
       "      <td>45.5</td>\n",
       "      <td>6.03</td>\n",
       "      <td>58.9</td>\n",
       "      <td>19100.0</td>\n",
       "      <td>1.44</td>\n",
       "      <td>76.8</td>\n",
       "      <td>2.13</td>\n",
       "      <td>12200</td>\n",
       "    </tr>\n",
       "  </tbody>\n",
       "</table>\n",
       "</div>"
      ],
      "text/plain": [
       "              couuntry child_mort exports health imports   income  inflation  \\\n",
       "0          Afghanistan       90.2      10   7.58    44.9   1610.0       9.44   \n",
       "1              Albania       16.6      28   6.55    48.6   9930.0       4.49   \n",
       "2              Algeria       27.3    38.4   4.17    31.4  12900.0      16.10   \n",
       "3               Angola         ::      ::     ::      ::   5900.0      22.40   \n",
       "4  Antigua and Barbuda       10.3    45.5   6.03    58.9  19100.0       1.44   \n",
       "\n",
       "   life_expec total_fer   gdpp  \n",
       "0        56.2      5.82    553  \n",
       "1        76.3      1.65   4090  \n",
       "2        76.5      2.89   4460  \n",
       "3        60.1      6.16   3530  \n",
       "4        76.8      2.13  12200  "
      ]
     },
     "execution_count": 3,
     "metadata": {},
     "output_type": "execute_result"
    }
   ],
   "source": [
    "# To load in data use read_csv\n",
    "my_first_df = pd.read_csv('../Assets/Data/Country-data.csv')\n",
    "\n",
    "#check the data ising head to peek at first 5 rows\n",
    "my_first_df.head()"
   ]
  },
  {
   "cell_type": "markdown",
   "metadata": {},
   "source": [
    "#### Now to play with paths\n",
    "\n",
    "In any project we want us and our stakeholders to be able to access our data quickly and easily, sometimes and absolute path is best, other times a relative one."
   ]
  },
  {
   "cell_type": "code",
   "execution_count": 4,
   "metadata": {},
   "outputs": [
    {
     "data": {
      "text/html": [
       "<div>\n",
       "<style scoped>\n",
       "    .dataframe tbody tr th:only-of-type {\n",
       "        vertical-align: middle;\n",
       "    }\n",
       "\n",
       "    .dataframe tbody tr th {\n",
       "        vertical-align: top;\n",
       "    }\n",
       "\n",
       "    .dataframe thead th {\n",
       "        text-align: right;\n",
       "    }\n",
       "</style>\n",
       "<table border=\"1\" class=\"dataframe\">\n",
       "  <thead>\n",
       "    <tr style=\"text-align: right;\">\n",
       "      <th></th>\n",
       "      <th>couuntry</th>\n",
       "      <th>child_mort</th>\n",
       "      <th>exports</th>\n",
       "      <th>health</th>\n",
       "      <th>imports</th>\n",
       "      <th>income</th>\n",
       "      <th>inflation</th>\n",
       "      <th>life_expec</th>\n",
       "      <th>total_fer</th>\n",
       "      <th>gdpp</th>\n",
       "    </tr>\n",
       "  </thead>\n",
       "  <tbody>\n",
       "    <tr>\n",
       "      <th>0</th>\n",
       "      <td>Afghanistan</td>\n",
       "      <td>90.2</td>\n",
       "      <td>10</td>\n",
       "      <td>7.58</td>\n",
       "      <td>44.9</td>\n",
       "      <td>1610.0</td>\n",
       "      <td>9.44</td>\n",
       "      <td>56.2</td>\n",
       "      <td>5.82</td>\n",
       "      <td>553</td>\n",
       "    </tr>\n",
       "    <tr>\n",
       "      <th>1</th>\n",
       "      <td>Albania</td>\n",
       "      <td>16.6</td>\n",
       "      <td>28</td>\n",
       "      <td>6.55</td>\n",
       "      <td>48.6</td>\n",
       "      <td>9930.0</td>\n",
       "      <td>4.49</td>\n",
       "      <td>76.3</td>\n",
       "      <td>1.65</td>\n",
       "      <td>4090</td>\n",
       "    </tr>\n",
       "    <tr>\n",
       "      <th>2</th>\n",
       "      <td>Algeria</td>\n",
       "      <td>27.3</td>\n",
       "      <td>38.4</td>\n",
       "      <td>4.17</td>\n",
       "      <td>31.4</td>\n",
       "      <td>12900.0</td>\n",
       "      <td>16.10</td>\n",
       "      <td>76.5</td>\n",
       "      <td>2.89</td>\n",
       "      <td>4460</td>\n",
       "    </tr>\n",
       "    <tr>\n",
       "      <th>3</th>\n",
       "      <td>Angola</td>\n",
       "      <td>::</td>\n",
       "      <td>::</td>\n",
       "      <td>::</td>\n",
       "      <td>::</td>\n",
       "      <td>5900.0</td>\n",
       "      <td>22.40</td>\n",
       "      <td>60.1</td>\n",
       "      <td>6.16</td>\n",
       "      <td>3530</td>\n",
       "    </tr>\n",
       "    <tr>\n",
       "      <th>4</th>\n",
       "      <td>Antigua and Barbuda</td>\n",
       "      <td>10.3</td>\n",
       "      <td>45.5</td>\n",
       "      <td>6.03</td>\n",
       "      <td>58.9</td>\n",
       "      <td>19100.0</td>\n",
       "      <td>1.44</td>\n",
       "      <td>76.8</td>\n",
       "      <td>2.13</td>\n",
       "      <td>12200</td>\n",
       "    </tr>\n",
       "  </tbody>\n",
       "</table>\n",
       "</div>"
      ],
      "text/plain": [
       "              couuntry child_mort exports health imports   income  inflation  \\\n",
       "0          Afghanistan       90.2      10   7.58    44.9   1610.0       9.44   \n",
       "1              Albania       16.6      28   6.55    48.6   9930.0       4.49   \n",
       "2              Algeria       27.3    38.4   4.17    31.4  12900.0      16.10   \n",
       "3               Angola         ::      ::     ::      ::   5900.0      22.40   \n",
       "4  Antigua and Barbuda       10.3    45.5   6.03    58.9  19100.0       1.44   \n",
       "\n",
       "   life_expec total_fer   gdpp  \n",
       "0        56.2      5.82    553  \n",
       "1        76.3      1.65   4090  \n",
       "2        76.5      2.89   4460  \n",
       "3        60.1      6.16   3530  \n",
       "4        76.8      2.13  12200  "
      ]
     },
     "execution_count": 4,
     "metadata": {},
     "output_type": "execute_result"
    }
   ],
   "source": [
    "# This is a relative path, it is the trail from our python file to the data file\n",
    "\n",
    "df_relative_path = pd.read_csv('../Assets/Data/Country-data.csv')\n",
    "df_relative_path.head()\n",
    "\n",
    "# To get the relative path work out the path you need to take to get to your data\n",
    "\n",
    "# relative paths are good when sharing python and data in a folder (like this session)\n"
   ]
  },
  {
   "cell_type": "code",
   "execution_count": 5,
   "metadata": {},
   "outputs": [
    {
     "data": {
      "text/html": [
       "<div>\n",
       "<style scoped>\n",
       "    .dataframe tbody tr th:only-of-type {\n",
       "        vertical-align: middle;\n",
       "    }\n",
       "\n",
       "    .dataframe tbody tr th {\n",
       "        vertical-align: top;\n",
       "    }\n",
       "\n",
       "    .dataframe thead th {\n",
       "        text-align: right;\n",
       "    }\n",
       "</style>\n",
       "<table border=\"1\" class=\"dataframe\">\n",
       "  <thead>\n",
       "    <tr style=\"text-align: right;\">\n",
       "      <th></th>\n",
       "      <th>couuntry</th>\n",
       "      <th>child_mort</th>\n",
       "      <th>exports</th>\n",
       "      <th>health</th>\n",
       "      <th>imports</th>\n",
       "      <th>income</th>\n",
       "      <th>inflation</th>\n",
       "      <th>life_expec</th>\n",
       "      <th>total_fer</th>\n",
       "      <th>gdpp</th>\n",
       "    </tr>\n",
       "  </thead>\n",
       "  <tbody>\n",
       "    <tr>\n",
       "      <th>0</th>\n",
       "      <td>Afghanistan</td>\n",
       "      <td>90.2</td>\n",
       "      <td>10</td>\n",
       "      <td>7.58</td>\n",
       "      <td>44.9</td>\n",
       "      <td>1610.0</td>\n",
       "      <td>9.44</td>\n",
       "      <td>56.2</td>\n",
       "      <td>5.82</td>\n",
       "      <td>553</td>\n",
       "    </tr>\n",
       "    <tr>\n",
       "      <th>1</th>\n",
       "      <td>Albania</td>\n",
       "      <td>16.6</td>\n",
       "      <td>28</td>\n",
       "      <td>6.55</td>\n",
       "      <td>48.6</td>\n",
       "      <td>9930.0</td>\n",
       "      <td>4.49</td>\n",
       "      <td>76.3</td>\n",
       "      <td>1.65</td>\n",
       "      <td>4090</td>\n",
       "    </tr>\n",
       "    <tr>\n",
       "      <th>2</th>\n",
       "      <td>Algeria</td>\n",
       "      <td>27.3</td>\n",
       "      <td>38.4</td>\n",
       "      <td>4.17</td>\n",
       "      <td>31.4</td>\n",
       "      <td>12900.0</td>\n",
       "      <td>16.10</td>\n",
       "      <td>76.5</td>\n",
       "      <td>2.89</td>\n",
       "      <td>4460</td>\n",
       "    </tr>\n",
       "    <tr>\n",
       "      <th>3</th>\n",
       "      <td>Angola</td>\n",
       "      <td>::</td>\n",
       "      <td>::</td>\n",
       "      <td>::</td>\n",
       "      <td>::</td>\n",
       "      <td>5900.0</td>\n",
       "      <td>22.40</td>\n",
       "      <td>60.1</td>\n",
       "      <td>6.16</td>\n",
       "      <td>3530</td>\n",
       "    </tr>\n",
       "    <tr>\n",
       "      <th>4</th>\n",
       "      <td>Antigua and Barbuda</td>\n",
       "      <td>10.3</td>\n",
       "      <td>45.5</td>\n",
       "      <td>6.03</td>\n",
       "      <td>58.9</td>\n",
       "      <td>19100.0</td>\n",
       "      <td>1.44</td>\n",
       "      <td>76.8</td>\n",
       "      <td>2.13</td>\n",
       "      <td>12200</td>\n",
       "    </tr>\n",
       "  </tbody>\n",
       "</table>\n",
       "</div>"
      ],
      "text/plain": [
       "              couuntry child_mort exports health imports   income  inflation  \\\n",
       "0          Afghanistan       90.2      10   7.58    44.9   1610.0       9.44   \n",
       "1              Albania       16.6      28   6.55    48.6   9930.0       4.49   \n",
       "2              Algeria       27.3    38.4   4.17    31.4  12900.0      16.10   \n",
       "3               Angola         ::      ::     ::      ::   5900.0      22.40   \n",
       "4  Antigua and Barbuda       10.3    45.5   6.03    58.9  19100.0       1.44   \n",
       "\n",
       "   life_expec total_fer   gdpp  \n",
       "0        56.2      5.82    553  \n",
       "1        76.3      1.65   4090  \n",
       "2        76.5      2.89   4460  \n",
       "3        60.1      6.16   3530  \n",
       "4        76.8      2.13  12200  "
      ]
     },
     "execution_count": 5,
     "metadata": {},
     "output_type": "execute_result"
    }
   ],
   "source": [
    "# This is an abolute path, it uses the address of the data on the hardrive\n",
    "# But it only works on the harddrive it is written!\n",
    "\n",
    "df_absolute_path = pd.read_csv(r\"C:\\Users\\nick.griffiths.MULTIVLAP1785\\Documents\\GitHub\\pymat\\pymat\\Python 10 week course\\Assets\\Data\\Country-data.csv\")\n",
    "df_absolute_path.head()\n",
    "\n",
    "# To get an aboslute path access the porperties on your data file and copy its path, OR\n",
    "# Right click on your data file and select \"copy as path\" then you can paste in the address directly\n",
    "\n",
    "# If you have an absolute path yuo must add an r before the string to make it \"raw\" or it won't work\n",
    "\n",
    "# Absolute paths are best for their speed to set up (if file structures are convoluted) \n",
    "# and for using them to pull data directly from files online"
   ]
  },
  {
   "cell_type": "code",
   "execution_count": 6,
   "metadata": {},
   "outputs": [
    {
     "data": {
      "text/html": [
       "<div>\n",
       "<style scoped>\n",
       "    .dataframe tbody tr th:only-of-type {\n",
       "        vertical-align: middle;\n",
       "    }\n",
       "\n",
       "    .dataframe tbody tr th {\n",
       "        vertical-align: top;\n",
       "    }\n",
       "\n",
       "    .dataframe thead th {\n",
       "        text-align: right;\n",
       "    }\n",
       "</style>\n",
       "<table border=\"1\" class=\"dataframe\">\n",
       "  <thead>\n",
       "    <tr style=\"text-align: right;\">\n",
       "      <th></th>\n",
       "      <th>couuntry</th>\n",
       "      <th>child_mort</th>\n",
       "      <th>exports</th>\n",
       "      <th>health</th>\n",
       "      <th>imports</th>\n",
       "      <th>income</th>\n",
       "      <th>inflation</th>\n",
       "      <th>life_expec</th>\n",
       "      <th>total_fer</th>\n",
       "      <th>gdpp</th>\n",
       "    </tr>\n",
       "  </thead>\n",
       "  <tbody>\n",
       "    <tr>\n",
       "      <th>0</th>\n",
       "      <td>Afghanistan</td>\n",
       "      <td>90.2</td>\n",
       "      <td>10</td>\n",
       "      <td>7.58</td>\n",
       "      <td>44.9</td>\n",
       "      <td>1610.0</td>\n",
       "      <td>9.44</td>\n",
       "      <td>56.2</td>\n",
       "      <td>5.82</td>\n",
       "      <td>553</td>\n",
       "    </tr>\n",
       "    <tr>\n",
       "      <th>1</th>\n",
       "      <td>Albania</td>\n",
       "      <td>16.6</td>\n",
       "      <td>28</td>\n",
       "      <td>6.55</td>\n",
       "      <td>48.6</td>\n",
       "      <td>9930.0</td>\n",
       "      <td>4.49</td>\n",
       "      <td>76.3</td>\n",
       "      <td>1.65</td>\n",
       "      <td>4090</td>\n",
       "    </tr>\n",
       "    <tr>\n",
       "      <th>2</th>\n",
       "      <td>Algeria</td>\n",
       "      <td>27.3</td>\n",
       "      <td>38.4</td>\n",
       "      <td>4.17</td>\n",
       "      <td>31.4</td>\n",
       "      <td>12900.0</td>\n",
       "      <td>16.10</td>\n",
       "      <td>76.5</td>\n",
       "      <td>2.89</td>\n",
       "      <td>4460</td>\n",
       "    </tr>\n",
       "    <tr>\n",
       "      <th>3</th>\n",
       "      <td>Angola</td>\n",
       "      <td>::</td>\n",
       "      <td>::</td>\n",
       "      <td>::</td>\n",
       "      <td>::</td>\n",
       "      <td>5900.0</td>\n",
       "      <td>22.40</td>\n",
       "      <td>60.1</td>\n",
       "      <td>6.16</td>\n",
       "      <td>3530</td>\n",
       "    </tr>\n",
       "    <tr>\n",
       "      <th>4</th>\n",
       "      <td>Antigua and Barbuda</td>\n",
       "      <td>10.3</td>\n",
       "      <td>45.5</td>\n",
       "      <td>6.03</td>\n",
       "      <td>58.9</td>\n",
       "      <td>19100.0</td>\n",
       "      <td>1.44</td>\n",
       "      <td>76.8</td>\n",
       "      <td>2.13</td>\n",
       "      <td>12200</td>\n",
       "    </tr>\n",
       "  </tbody>\n",
       "</table>\n",
       "</div>"
      ],
      "text/plain": [
       "              couuntry child_mort exports health imports   income  inflation  \\\n",
       "0          Afghanistan       90.2      10   7.58    44.9   1610.0       9.44   \n",
       "1              Albania       16.6      28   6.55    48.6   9930.0       4.49   \n",
       "2              Algeria       27.3    38.4   4.17    31.4  12900.0      16.10   \n",
       "3               Angola         ::      ::     ::      ::   5900.0      22.40   \n",
       "4  Antigua and Barbuda       10.3    45.5   6.03    58.9  19100.0       1.44   \n",
       "\n",
       "   life_expec total_fer   gdpp  \n",
       "0        56.2      5.82    553  \n",
       "1        76.3      1.65   4090  \n",
       "2        76.5      2.89   4460  \n",
       "3        60.1      6.16   3530  \n",
       "4        76.8      2.13  12200  "
      ]
     },
     "execution_count": 6,
     "metadata": {},
     "output_type": "execute_result"
    }
   ],
   "source": [
    "# In the case of our workshop, I want to share this efficiently and within a file structure(folder) \n",
    "# that won't change so relative path makes the most sense\n",
    "\n",
    "countries = pd.read_csv('../Assets/Data/Country-data.csv')\n",
    "countries.head()"
   ]
  },
  {
   "cell_type": "markdown",
   "metadata": {},
   "source": [
    "<hr style = \"height:5px; background-color: blue; border-color:blue;\">\n",
    "<hr style = \"height:5px; background-color: #89CFF0; border-color:#89CFF0;\">\n",
    "<hr style = \"height:5px; background-color: black; border-color:black;\">\n",
    "\n",
    "### Now you try\n",
    "\n",
    "1) Load in your dataset (or a practice set from the data folder) experiment with using relative or absolute paths\n",
    "\n",
    "2) Consider the following which path method would be best for these situations (R/A) \n",
    "\n",
    "- A collaborative project shared with multiple people\n",
    "- A quick check on some data on your machine\n",
    "- A report/code in jupyter you want to send to your boss\n",
    "- Accessing a datasource hosted online"
   ]
  },
  {
   "cell_type": "code",
   "execution_count": 7,
   "metadata": {},
   "outputs": [],
   "source": [
    "# code here\n"
   ]
  },
  {
   "cell_type": "markdown",
   "metadata": {},
   "source": [
    "<hr style = \"height:5px; background-color: blue; border-color:blue;\">\n",
    "<hr style = \"height:5px; background-color: #89CFF0; border-color:#89CFF0;\">\n",
    "<hr style = \"height:5px; background-color: black; border-color:black;\">\n",
    "\n",
    "### EDA(exploratory data analysis)\n",
    "\n",
    "EDA is a quick surface level exploration of your data, we will lok at some of the functions you can use to do this.\n"
   ]
  },
  {
   "cell_type": "markdown",
   "metadata": {},
   "source": [
    "#### Basic EDA - summaries"
   ]
  },
  {
   "cell_type": "code",
   "execution_count": 8,
   "metadata": {},
   "outputs": [
    {
     "data": {
      "text/plain": [
       "couuntry       object\n",
       "child_mort     object\n",
       "exports        object\n",
       "health         object\n",
       "imports        object\n",
       "income        float64\n",
       "inflation     float64\n",
       "life_expec    float64\n",
       "total_fer      object\n",
       "gdpp            int64\n",
       "dtype: object"
      ]
     },
     "execution_count": 8,
     "metadata": {},
     "output_type": "execute_result"
    }
   ],
   "source": [
    "# Show us the data tyes we have\n",
    "countries.dtypes"
   ]
  },
  {
   "cell_type": "code",
   "execution_count": 9,
   "metadata": {},
   "outputs": [
    {
     "name": "stdout",
     "output_type": "stream",
     "text": [
      "<class 'pandas.core.frame.DataFrame'>\n",
      "RangeIndex: 168 entries, 0 to 167\n",
      "Data columns (total 10 columns):\n",
      " #   Column      Non-Null Count  Dtype  \n",
      "---  ------      --------------  -----  \n",
      " 0   couuntry    168 non-null    object \n",
      " 1   child_mort  165 non-null    object \n",
      " 2   exports     165 non-null    object \n",
      " 3   health      165 non-null    object \n",
      " 4   imports     166 non-null    object \n",
      " 5   income      166 non-null    float64\n",
      " 6   inflation   166 non-null    float64\n",
      " 7   life_expec  167 non-null    float64\n",
      " 8   total_fer   167 non-null    object \n",
      " 9   gdpp        168 non-null    int64  \n",
      "dtypes: float64(3), int64(1), object(6)\n",
      "memory usage: 13.2+ KB\n"
     ]
    }
   ],
   "source": [
    "# bring up info on our dataset nulls etc\n",
    "countries.info()"
   ]
  },
  {
   "cell_type": "code",
   "execution_count": 10,
   "metadata": {},
   "outputs": [
    {
     "data": {
      "text/html": [
       "<div>\n",
       "<style scoped>\n",
       "    .dataframe tbody tr th:only-of-type {\n",
       "        vertical-align: middle;\n",
       "    }\n",
       "\n",
       "    .dataframe tbody tr th {\n",
       "        vertical-align: top;\n",
       "    }\n",
       "\n",
       "    .dataframe thead th {\n",
       "        text-align: right;\n",
       "    }\n",
       "</style>\n",
       "<table border=\"1\" class=\"dataframe\">\n",
       "  <thead>\n",
       "    <tr style=\"text-align: right;\">\n",
       "      <th></th>\n",
       "      <th>income</th>\n",
       "      <th>inflation</th>\n",
       "      <th>life_expec</th>\n",
       "      <th>gdpp</th>\n",
       "    </tr>\n",
       "  </thead>\n",
       "  <tbody>\n",
       "    <tr>\n",
       "      <th>count</th>\n",
       "      <td>166.000000</td>\n",
       "      <td>166.000000</td>\n",
       "      <td>167.000000</td>\n",
       "      <td>168.000000</td>\n",
       "    </tr>\n",
       "    <tr>\n",
       "      <th>mean</th>\n",
       "      <td>17232.427711</td>\n",
       "      <td>7.822807</td>\n",
       "      <td>70.601198</td>\n",
       "      <td>12894.785714</td>\n",
       "    </tr>\n",
       "    <tr>\n",
       "      <th>std</th>\n",
       "      <td>19302.107152</td>\n",
       "      <td>10.604188</td>\n",
       "      <td>8.886588</td>\n",
       "      <td>18295.853169</td>\n",
       "    </tr>\n",
       "    <tr>\n",
       "      <th>min</th>\n",
       "      <td>609.000000</td>\n",
       "      <td>-4.210000</td>\n",
       "      <td>32.100000</td>\n",
       "      <td>231.000000</td>\n",
       "    </tr>\n",
       "    <tr>\n",
       "      <th>25%</th>\n",
       "      <td>3457.500000</td>\n",
       "      <td>1.790000</td>\n",
       "      <td>65.300000</td>\n",
       "      <td>1310.000000</td>\n",
       "    </tr>\n",
       "    <tr>\n",
       "      <th>50%</th>\n",
       "      <td>10180.000000</td>\n",
       "      <td>5.415000</td>\n",
       "      <td>73.100000</td>\n",
       "      <td>4635.000000</td>\n",
       "    </tr>\n",
       "    <tr>\n",
       "      <th>75%</th>\n",
       "      <td>22850.000000</td>\n",
       "      <td>11.050000</td>\n",
       "      <td>76.800000</td>\n",
       "      <td>13775.000000</td>\n",
       "    </tr>\n",
       "    <tr>\n",
       "      <th>max</th>\n",
       "      <td>125000.000000</td>\n",
       "      <td>104.000000</td>\n",
       "      <td>82.800000</td>\n",
       "      <td>105000.000000</td>\n",
       "    </tr>\n",
       "  </tbody>\n",
       "</table>\n",
       "</div>"
      ],
      "text/plain": [
       "              income   inflation  life_expec           gdpp\n",
       "count     166.000000  166.000000  167.000000     168.000000\n",
       "mean    17232.427711    7.822807   70.601198   12894.785714\n",
       "std     19302.107152   10.604188    8.886588   18295.853169\n",
       "min       609.000000   -4.210000   32.100000     231.000000\n",
       "25%      3457.500000    1.790000   65.300000    1310.000000\n",
       "50%     10180.000000    5.415000   73.100000    4635.000000\n",
       "75%     22850.000000   11.050000   76.800000   13775.000000\n",
       "max    125000.000000  104.000000   82.800000  105000.000000"
      ]
     },
     "execution_count": 10,
     "metadata": {},
     "output_type": "execute_result"
    }
   ],
   "source": [
    "# describe will give us a set of summary stats on our data\n",
    "countries.describe()"
   ]
  },
  {
   "cell_type": "code",
   "execution_count": 11,
   "metadata": {},
   "outputs": [
    {
     "data": {
      "text/html": [
       "<div>\n",
       "<style scoped>\n",
       "    .dataframe tbody tr th:only-of-type {\n",
       "        vertical-align: middle;\n",
       "    }\n",
       "\n",
       "    .dataframe tbody tr th {\n",
       "        vertical-align: top;\n",
       "    }\n",
       "\n",
       "    .dataframe thead th {\n",
       "        text-align: right;\n",
       "    }\n",
       "</style>\n",
       "<table border=\"1\" class=\"dataframe\">\n",
       "  <thead>\n",
       "    <tr style=\"text-align: right;\">\n",
       "      <th></th>\n",
       "      <th>couuntry</th>\n",
       "      <th>child_mort</th>\n",
       "      <th>exports</th>\n",
       "      <th>health</th>\n",
       "      <th>imports</th>\n",
       "      <th>income</th>\n",
       "      <th>inflation</th>\n",
       "      <th>life_expec</th>\n",
       "      <th>total_fer</th>\n",
       "      <th>gdpp</th>\n",
       "    </tr>\n",
       "  </thead>\n",
       "  <tbody>\n",
       "    <tr>\n",
       "      <th>0</th>\n",
       "      <td>False</td>\n",
       "      <td>False</td>\n",
       "      <td>False</td>\n",
       "      <td>False</td>\n",
       "      <td>False</td>\n",
       "      <td>False</td>\n",
       "      <td>False</td>\n",
       "      <td>False</td>\n",
       "      <td>False</td>\n",
       "      <td>False</td>\n",
       "    </tr>\n",
       "    <tr>\n",
       "      <th>1</th>\n",
       "      <td>False</td>\n",
       "      <td>False</td>\n",
       "      <td>False</td>\n",
       "      <td>False</td>\n",
       "      <td>False</td>\n",
       "      <td>False</td>\n",
       "      <td>False</td>\n",
       "      <td>False</td>\n",
       "      <td>False</td>\n",
       "      <td>False</td>\n",
       "    </tr>\n",
       "    <tr>\n",
       "      <th>2</th>\n",
       "      <td>False</td>\n",
       "      <td>False</td>\n",
       "      <td>False</td>\n",
       "      <td>False</td>\n",
       "      <td>False</td>\n",
       "      <td>False</td>\n",
       "      <td>False</td>\n",
       "      <td>False</td>\n",
       "      <td>False</td>\n",
       "      <td>False</td>\n",
       "    </tr>\n",
       "    <tr>\n",
       "      <th>3</th>\n",
       "      <td>False</td>\n",
       "      <td>False</td>\n",
       "      <td>False</td>\n",
       "      <td>False</td>\n",
       "      <td>False</td>\n",
       "      <td>False</td>\n",
       "      <td>False</td>\n",
       "      <td>False</td>\n",
       "      <td>False</td>\n",
       "      <td>False</td>\n",
       "    </tr>\n",
       "    <tr>\n",
       "      <th>4</th>\n",
       "      <td>False</td>\n",
       "      <td>False</td>\n",
       "      <td>False</td>\n",
       "      <td>False</td>\n",
       "      <td>False</td>\n",
       "      <td>False</td>\n",
       "      <td>False</td>\n",
       "      <td>False</td>\n",
       "      <td>False</td>\n",
       "      <td>False</td>\n",
       "    </tr>\n",
       "  </tbody>\n",
       "</table>\n",
       "</div>"
      ],
      "text/plain": [
       "   couuntry  child_mort  exports  health  imports  income  inflation  \\\n",
       "0     False       False    False   False    False   False      False   \n",
       "1     False       False    False   False    False   False      False   \n",
       "2     False       False    False   False    False   False      False   \n",
       "3     False       False    False   False    False   False      False   \n",
       "4     False       False    False   False    False   False      False   \n",
       "\n",
       "   life_expec  total_fer   gdpp  \n",
       "0       False      False  False  \n",
       "1       False      False  False  \n",
       "2       False      False  False  \n",
       "3       False      False  False  \n",
       "4       False      False  False  "
      ]
     },
     "execution_count": 11,
     "metadata": {},
     "output_type": "execute_result"
    }
   ],
   "source": [
    "# get a null count\n",
    "\n",
    "# checks every item gives true if null false if it has a value\n",
    "# Not super useful on it's own but combined with a sum function it's very handy\n",
    "pd.isna(countries).head(5)"
   ]
  },
  {
   "cell_type": "code",
   "execution_count": 12,
   "metadata": {},
   "outputs": [
    {
     "data": {
      "text/plain": [
       "couuntry      0\n",
       "child_mort    3\n",
       "exports       3\n",
       "health        3\n",
       "imports       2\n",
       "income        2\n",
       "inflation     2\n",
       "life_expec    1\n",
       "total_fer     1\n",
       "gdpp          0\n",
       "dtype: int64"
      ]
     },
     "execution_count": 12,
     "metadata": {},
     "output_type": "execute_result"
    }
   ],
   "source": [
    "# get a column by column sumary of nulls\n",
    "countries.isna().sum()"
   ]
  },
  {
   "cell_type": "code",
   "execution_count": 13,
   "metadata": {},
   "outputs": [
    {
     "data": {
      "text/plain": [
       "17"
      ]
     },
     "execution_count": 13,
     "metadata": {},
     "output_type": "execute_result"
    }
   ],
   "source": [
    "# Get a whole data base null count\n",
    "countries.isna().sum().sum()"
   ]
  },
  {
   "cell_type": "code",
   "execution_count": 14,
   "metadata": {},
   "outputs": [
    {
     "data": {
      "text/plain": [
       "1"
      ]
     },
     "execution_count": 14,
     "metadata": {},
     "output_type": "execute_result"
    }
   ],
   "source": [
    "# finds any duplicated rows\n",
    "countries.duplicated().sum()"
   ]
  },
  {
   "cell_type": "code",
   "execution_count": 15,
   "metadata": {},
   "outputs": [
    {
     "data": {
      "text/plain": [
       "0"
      ]
     },
     "execution_count": 15,
     "metadata": {},
     "output_type": "execute_result"
    }
   ],
   "source": [
    "countries = countries.drop_duplicates()\n",
    "countries.duplicated().sum()"
   ]
  },
  {
   "cell_type": "markdown",
   "metadata": {},
   "source": [
    "<hr style = \"height:5px; background-color: blue; border-color:blue;\">\n",
    "<hr style = \"height:5px; background-color: #89CFF0; border-color:#89CFF0;\">\n",
    "<hr style = \"height:5px; background-color: black; border-color:black;\">\n",
    "\n",
    "### Now you try\n",
    "\n",
    "Try finding these summary stats etc on your dataset (or use the pratice dataset)"
   ]
  },
  {
   "cell_type": "code",
   "execution_count": 16,
   "metadata": {},
   "outputs": [],
   "source": [
    "# code here\n",
    "\n"
   ]
  },
  {
   "cell_type": "markdown",
   "metadata": {},
   "source": [
    "<hr style = \"height:5px; background-color: blue; border-color:blue;\">\n",
    "<hr style = \"height:5px; background-color: #89CFF0; border-color:#89CFF0;\">\n",
    "<hr style = \"height:5px; background-color: black; border-color:black;\">\n",
    "\n",
    "#### More EDA - filtering and simple aggregates"
   ]
  },
  {
   "cell_type": "markdown",
   "metadata": {},
   "source": [
    "##### Basic aggregates"
   ]
  },
  {
   "cell_type": "code",
   "execution_count": null,
   "metadata": {},
   "outputs": [],
   "source": [
    "countries.head()"
   ]
  },
  {
   "cell_type": "code",
   "execution_count": null,
   "metadata": {},
   "outputs": [],
   "source": [
    "# Aggregates can be found by using their function\n",
    "# If a field is non-numeric or has any strings in it mean will skip\n",
    "# looks like we have some issues here!\n",
    "countries[['life_expec','income']].std()"
   ]
  },
  {
   "cell_type": "code",
   "execution_count": null,
   "metadata": {},
   "outputs": [],
   "source": [
    "# alternatively select a column before/after taking the mean\n",
    "countries['income'].mean()\n",
    "#or\n",
    "countries.mean()['income']"
   ]
  },
  {
   "cell_type": "code",
   "execution_count": null,
   "metadata": {},
   "outputs": [],
   "source": [
    "# selecting a column can be done two ways \n",
    "\n",
    "# dot notation\n",
    "countries.exports"
   ]
  },
  {
   "cell_type": "code",
   "execution_count": null,
   "metadata": {},
   "outputs": [],
   "source": [
    "# or bracket notation\n",
    "countries['exports']"
   ]
  },
  {
   "cell_type": "code",
   "execution_count": null,
   "metadata": {},
   "outputs": [],
   "source": [
    "# bracket notation is more robust and arguably more readable, \n",
    "# dot notation breaks when space or special characters are used \n",
    "\n",
    "# It's worth knowing both"
   ]
  },
  {
   "cell_type": "code",
   "execution_count": null,
   "metadata": {},
   "outputs": [],
   "source": [
    "# A good function to know though not strictly an aggregate is value_counts() which counts\n",
    "# how many times a value comes up in a given column\n",
    "countries['exports'].value_counts()"
   ]
  },
  {
   "cell_type": "markdown",
   "metadata": {},
   "source": [
    "##### Filters"
   ]
  },
  {
   "cell_type": "code",
   "execution_count": null,
   "metadata": {},
   "outputs": [],
   "source": [
    "# To filter put a logic condition square brackets\n",
    "\n",
    "# find all countries withincomes under 1500\n",
    "countries[countries['income']<1500] "
   ]
  },
  {
   "cell_type": "code",
   "execution_count": null,
   "metadata": {},
   "outputs": [],
   "source": [
    "# to combine use (& / |) to mean (and / or) and wrap each logic condition in round brackets\n",
    "\n",
    "# find all countries with income under 1500 and GDP over 500\n",
    "countries[(countries['income']<1500) & (countries['gdpp']>500) ]"
   ]
  },
  {
   "cell_type": "code",
   "execution_count": null,
   "metadata": {},
   "outputs": [],
   "source": [
    "# You can save your conditions for later using using a variable (often reffered to as a mask)\n",
    "mask = (countries['income']<1500) & (countries['gdpp']>500)\n",
    "\n",
    "new_subset = countries[mask]\n",
    "new_subset"
   ]
  },
  {
   "cell_type": "markdown",
   "metadata": {},
   "source": [
    "<hr style = \"height:5px; background-color: blue; border-color:blue;\">\n",
    "<hr style = \"height:5px; background-color: #89CFF0; border-color:#89CFF0;\">\n",
    "<hr style = \"height:5px; background-color: black; border-color:black;\">\n",
    "\n",
    "### Now you try\n",
    "\n",
    "Try finding aggregates and filtering on your dataset (or use the pratice dataset)"
   ]
  },
  {
   "cell_type": "code",
   "execution_count": null,
   "metadata": {},
   "outputs": [],
   "source": [
    "#code here"
   ]
  },
  {
   "cell_type": "markdown",
   "metadata": {},
   "source": [
    "<hr style = \"height:5px; background-color: blue; border-color:blue;\">\n",
    "<hr style = \"height:5px; background-color: #89CFF0; border-color:#89CFF0;\">\n",
    "<hr style = \"height:5px; background-color: black; border-color:black;\">\n",
    "\n",
    "\n",
    "### See you next time\n",
    "\n",
    "\n",
    "<hr style = \"height:5px; background-color: blue; border-color:blue;\">\n",
    "<hr style = \"height:5px; background-color: #89CFF0; border-color:#89CFF0;\">\n",
    "<hr style = \"height:5px; background-color: black; border-color:black;\">"
   ]
  }
 ],
 "metadata": {
  "kernelspec": {
   "display_name": "Python 3 (ipykernel)",
   "language": "python",
   "name": "python3"
  },
  "language_info": {
   "codemirror_mode": {
    "name": "ipython",
    "version": 3
   },
   "file_extension": ".py",
   "mimetype": "text/x-python",
   "name": "python",
   "nbconvert_exporter": "python",
   "pygments_lexer": "ipython3",
   "version": "3.10.9"
  }
 },
 "nbformat": 4,
 "nbformat_minor": 4
}
