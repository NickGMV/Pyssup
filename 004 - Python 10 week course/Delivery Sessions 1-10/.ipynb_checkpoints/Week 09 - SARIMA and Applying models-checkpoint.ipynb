{
 "cells": [
  {
   "cell_type": "code",
   "execution_count": 1,
   "metadata": {},
   "outputs": [],
   "source": [
    "# exec('''import urllib; exec(urllib.request.urlopen('https://raw.githubusercontent.com/NickGMV/visual-tools/main/visual-aids-jupyter8.txt').read())''')"
   ]
  },
  {
   "cell_type": "markdown",
   "metadata": {},
   "source": [
    "<hr style = \"height:5px; background-color: blue; border-color:blue;\">\n",
    "<hr style = \"height:5px; background-color: #89CFF0; border-color:#89CFF0;\">\n",
    "<hr style = \"height:5px; background-color: black; border-color:black;\">\n",
    "\n",
    "### 10 weeks of Python - Week 9\n",
    "\n",
    "# SARIMA\n",
    "\n",
    "<hr style = \"height:5px; background-color: blue; border-color:blue;\">\n",
    "<hr style = \"height:5px; background-color: #89CFF0; border-color:#89CFF0;\">\n",
    "<hr style = \"height:5px; background-color: black; border-color:black;\">"
   ]
  },
  {
   "cell_type": "markdown",
   "metadata": {},
   "source": [
    "### Imports and load data - (see week 1&2 if stuck)"
   ]
  },
  {
   "cell_type": "code",
   "execution_count": 2,
   "metadata": {},
   "outputs": [],
   "source": [
    "# imports\n",
    "import pandas as pd \n",
    "# use numpy nulls\n",
    "import numpy as np"
   ]
  },
  {
   "cell_type": "code",
   "execution_count": 4,
   "metadata": {},
   "outputs": [
    {
     "data": {
      "text/html": [
       "<div>\n",
       "<style scoped>\n",
       "    .dataframe tbody tr th:only-of-type {\n",
       "        vertical-align: middle;\n",
       "    }\n",
       "\n",
       "    .dataframe tbody tr th {\n",
       "        vertical-align: top;\n",
       "    }\n",
       "\n",
       "    .dataframe thead th {\n",
       "        text-align: right;\n",
       "    }\n",
       "</style>\n",
       "<table border=\"1\" class=\"dataframe\">\n",
       "  <thead>\n",
       "    <tr style=\"text-align: right;\">\n",
       "      <th></th>\n",
       "      <th>Unnamed: 0</th>\n",
       "      <th>country</th>\n",
       "      <th>child_mort</th>\n",
       "      <th>exports</th>\n",
       "      <th>health</th>\n",
       "      <th>imports</th>\n",
       "      <th>income</th>\n",
       "      <th>inflation</th>\n",
       "      <th>life_expec</th>\n",
       "      <th>total_fer</th>\n",
       "      <th>gdpp</th>\n",
       "    </tr>\n",
       "  </thead>\n",
       "  <tbody>\n",
       "    <tr>\n",
       "      <th>0</th>\n",
       "      <td>0</td>\n",
       "      <td>Afghanistan</td>\n",
       "      <td>90.2</td>\n",
       "      <td>10.0</td>\n",
       "      <td>7.58</td>\n",
       "      <td>44.9</td>\n",
       "      <td>1610.0</td>\n",
       "      <td>9.44</td>\n",
       "      <td>56.2</td>\n",
       "      <td>5.82</td>\n",
       "      <td>553.0</td>\n",
       "    </tr>\n",
       "    <tr>\n",
       "      <th>1</th>\n",
       "      <td>1</td>\n",
       "      <td>Albania</td>\n",
       "      <td>16.6</td>\n",
       "      <td>28.0</td>\n",
       "      <td>6.55</td>\n",
       "      <td>48.6</td>\n",
       "      <td>9930.0</td>\n",
       "      <td>4.49</td>\n",
       "      <td>76.3</td>\n",
       "      <td>1.65</td>\n",
       "      <td>4090.0</td>\n",
       "    </tr>\n",
       "    <tr>\n",
       "      <th>2</th>\n",
       "      <td>2</td>\n",
       "      <td>Algeria</td>\n",
       "      <td>27.3</td>\n",
       "      <td>38.4</td>\n",
       "      <td>4.17</td>\n",
       "      <td>31.4</td>\n",
       "      <td>12900.0</td>\n",
       "      <td>16.10</td>\n",
       "      <td>76.5</td>\n",
       "      <td>2.89</td>\n",
       "      <td>4460.0</td>\n",
       "    </tr>\n",
       "    <tr>\n",
       "      <th>3</th>\n",
       "      <td>3</td>\n",
       "      <td>Angola</td>\n",
       "      <td>NaN</td>\n",
       "      <td>NaN</td>\n",
       "      <td>NaN</td>\n",
       "      <td>NaN</td>\n",
       "      <td>5900.0</td>\n",
       "      <td>22.40</td>\n",
       "      <td>60.1</td>\n",
       "      <td>6.16</td>\n",
       "      <td>3530.0</td>\n",
       "    </tr>\n",
       "    <tr>\n",
       "      <th>4</th>\n",
       "      <td>4</td>\n",
       "      <td>Antigua and Barbuda</td>\n",
       "      <td>10.3</td>\n",
       "      <td>45.5</td>\n",
       "      <td>6.03</td>\n",
       "      <td>58.9</td>\n",
       "      <td>19100.0</td>\n",
       "      <td>1.44</td>\n",
       "      <td>76.8</td>\n",
       "      <td>2.13</td>\n",
       "      <td>12200.0</td>\n",
       "    </tr>\n",
       "  </tbody>\n",
       "</table>\n",
       "</div>"
      ],
      "text/plain": [
       "   Unnamed: 0              country  child_mort  exports  health  imports  \\\n",
       "0           0          Afghanistan        90.2     10.0    7.58     44.9   \n",
       "1           1              Albania        16.6     28.0    6.55     48.6   \n",
       "2           2              Algeria        27.3     38.4    4.17     31.4   \n",
       "3           3               Angola         NaN      NaN     NaN      NaN   \n",
       "4           4  Antigua and Barbuda        10.3     45.5    6.03     58.9   \n",
       "\n",
       "    income  inflation  life_expec  total_fer     gdpp  \n",
       "0   1610.0       9.44        56.2       5.82    553.0  \n",
       "1   9930.0       4.49        76.3       1.65   4090.0  \n",
       "2  12900.0      16.10        76.5       2.89   4460.0  \n",
       "3   5900.0      22.40        60.1       6.16   3530.0  \n",
       "4  19100.0       1.44        76.8       2.13  12200.0  "
      ]
     },
     "execution_count": 4,
     "metadata": {},
     "output_type": "execute_result"
    }
   ],
   "source": [
    "#load in data \n",
    "countries = pd.read_csv('./data/Country-cleaned-data.csv')\n",
    "countries.head()"
   ]
  },
  {
   "cell_type": "markdown",
   "metadata": {},
   "source": [
    "<hr style = \"height:5px; background-color: blue; border-color:blue;\">\n",
    "<hr style = \"height:5px; background-color: #89CFF0; border-color:#89CFF0;\">\n",
    "<hr style = \"height:5px; background-color: black; border-color:black;\">\n",
    "\n",
    "### Grouping"
   ]
  },
  {
   "cell_type": "markdown",
   "metadata": {},
   "source": [
    "#### Groupby"
   ]
  },
  {
   "cell_type": "code",
   "execution_count": null,
   "metadata": {},
   "outputs": [],
   "source": []
  },
  {
   "cell_type": "code",
   "execution_count": null,
   "metadata": {},
   "outputs": [],
   "source": []
  },
  {
   "cell_type": "code",
   "execution_count": null,
   "metadata": {},
   "outputs": [],
   "source": []
  },
  {
   "cell_type": "markdown",
   "metadata": {},
   "source": [
    "<hr style = \"height:5px; background-color: blue; border-color:blue;\">\n",
    "<hr style = \"height:5px; background-color: #89CFF0; border-color:#89CFF0;\">\n",
    "<hr style = \"height:5px; background-color: black; border-color:black;\">\n",
    "\n",
    "### Now you try\n",
    " Using your cleaned data set from last week (or one of the practice sets)\n"
   ]
  },
  {
   "cell_type": "code",
   "execution_count": 58,
   "metadata": {},
   "outputs": [],
   "source": [
    "# code here"
   ]
  },
  {
   "cell_type": "code",
   "execution_count": null,
   "metadata": {},
   "outputs": [],
   "source": []
  },
  {
   "cell_type": "code",
   "execution_count": null,
   "metadata": {},
   "outputs": [],
   "source": []
  },
  {
   "cell_type": "code",
   "execution_count": null,
   "metadata": {},
   "outputs": [],
   "source": []
  },
  {
   "cell_type": "markdown",
   "metadata": {},
   "source": [
    "<hr style = \"height:5px; background-color: blue; border-color:blue;\">\n",
    "<hr style = \"height:5px; background-color: #89CFF0; border-color:#89CFF0;\">\n",
    "<hr style = \"height:5px; background-color: black; border-color:black;\">\n",
    "\n",
    "### Now you try\n",
    " Using your cleaned data set from last week (or one of the practice sets)"
   ]
  },
  {
   "cell_type": "code",
   "execution_count": null,
   "metadata": {},
   "outputs": [],
   "source": [
    "# code here"
   ]
  },
  {
   "cell_type": "markdown",
   "metadata": {},
   "source": [
    "<hr style = \"height:5px; background-color: blue; border-color:blue;\">\n",
    "<hr style = \"height:5px; background-color: #89CFF0; border-color:#89CFF0;\">\n",
    "<hr style = \"height:5px; background-color: black; border-color:black;\">\n",
    "\n",
    "\n",
    "### See you next time\n",
    "\n",
    "\n",
    "<hr style = \"height:5px; background-color: blue; border-color:blue;\">\n",
    "<hr style = \"height:5px; background-color: #89CFF0; border-color:#89CFF0;\">\n",
    "<hr style = \"height:5px; background-color: black; border-color:black;\">"
   ]
  },
  {
   "cell_type": "code",
   "execution_count": null,
   "metadata": {},
   "outputs": [],
   "source": []
  }
 ],
 "metadata": {
  "kernelspec": {
   "display_name": "Python 3",
   "language": "python",
   "name": "python3"
  },
  "language_info": {
   "codemirror_mode": {
    "name": "ipython",
    "version": 3
   },
   "file_extension": ".py",
   "mimetype": "text/x-python",
   "name": "python",
   "nbconvert_exporter": "python",
   "pygments_lexer": "ipython3",
   "version": "3.8.5"
  }
 },
 "nbformat": 4,
 "nbformat_minor": 4
}
