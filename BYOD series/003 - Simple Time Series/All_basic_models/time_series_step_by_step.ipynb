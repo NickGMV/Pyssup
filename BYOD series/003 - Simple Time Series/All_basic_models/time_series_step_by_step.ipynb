{
 "cells": [
  {
   "cell_type": "markdown",
   "metadata": {},
   "source": [
    "# Step by Step: Time Series\n",
    "\n",
    "### Step one - Import libraries\n",
    "No changes needed here unless you require any other libraries for your data imports or transformation! It is a best practice, when working with a programming language, to put all of your import lines at the top of the document. It gives you an easy one-stop-shop to make any changes to your imports and makes it a lot easier to read for anyone else viewing your code!"
   ]
  },
  {
   "cell_type": "code",
   "execution_count": 1,
   "metadata": {},
   "outputs": [],
   "source": [
    "# the basics\n",
    "import pandas as pd\n",
    "import matplotlib.pyplot as plt\n",
    "import seaborn as sns\n",
    "import numpy as np\n",
    "# autocorrelation and seasonal decomposition\n",
    "from statsmodels.graphics.tsaplots import plot_acf, plot_pacf\n",
    "from statsmodels.tsa.seasonal import seasonal_decompose\n",
    "# the models\n",
    "from statsmodels.tsa.api import ExponentialSmoothing\n",
    "# model evaluation:\n",
    "from sklearn.metrics import mean_squared_error\n",
    "from math import sqrt"
   ]
  },
  {
   "cell_type": "markdown",
   "metadata": {},
   "source": [
    "### Step 2: Read data and check, clean if neccessary\n",
    "Reading in the data is often the hardest part! If you are connecting to an external data source such as Google BigQuery you may need to replace the first block of code in this step with your query returning a dataframe instead.\n",
    "\n",
    "We check the data after reading it into python for several reasons:\n",
    "- It allows us to check the import has worked correctly\n",
    "- We can identify nulls that may interfere with the analysis and deal with them\n",
    "- We can identify any quirks of the file we read in (summary lines at the bottom of a sheet often cause problems!)\n",
    "\n",
    "If you have interesting values/quirks in the data that you only know how to manage because of your domain this is a great opportunity to talk about how domain context is important in an analysis."
   ]
  },
  {
   "cell_type": "code",
   "execution_count": null,
   "metadata": {},
   "outputs": [],
   "source": [
    "df = pd.read_csv('your/filepath/here.csv')  # replace with relevant filepath"
   ]
  },
  {
   "cell_type": "code",
   "execution_count": null,
   "metadata": {},
   "outputs": [],
   "source": [
    "df.head()"
   ]
  },
  {
   "cell_type": "code",
   "execution_count": null,
   "metadata": {},
   "outputs": [],
   "source": [
    "df.info()"
   ]
  },
  {
   "cell_type": "markdown",
   "metadata": {},
   "source": [
    "### Step three - prep for time series analysis:\n",
    "There are two fundamental steps, changing the data type to datetime and setting it as the index. We have to convert it to a date in order to tell python to treat the date/time column as a date rather than a string (the default). We use the `format = '%d-%m-%Y'` additional argument to specify the way that our date is structured:\n",
    "- %d stands for day as a number\n",
    "- %m stands for month as a number\n",
    "- %Y stands for year with 4 digits (e.g. 2022)\n",
    "\n",
    "<b>You may need to change the dashes to / depending on your data!</b>"
   ]
  },
  {
   "cell_type": "code",
   "execution_count": null,
   "metadata": {},
   "outputs": [],
   "source": [
    "# converting to datetime\n",
    "df['your_datetime_col'] = pd.to_datetime(df['your_datetime_col'], format = '%d-%m-%Y')  # replace with your datetime column"
   ]
  },
  {
   "cell_type": "markdown",
   "metadata": {},
   "source": [
    "The next step is to set it as the index, we do this because it helps the rest of our code run, some of which relies on date being the index."
   ]
  },
  {
   "cell_type": "code",
   "execution_count": null,
   "metadata": {},
   "outputs": [],
   "source": [
    "# set the datetime column as the index\n",
    "df.set_index('your_datetime_col', inplace=True)  # replace with your datetime column"
   ]
  },
  {
   "cell_type": "markdown",
   "metadata": {},
   "source": [
    "### Step four: Resample\n",
    "We're now going to resample the data. This can either mean:\n",
    "- Resampling to the same level of aggregation (e.g. daily data resampled to daily data) in order to fill in days where you have no records with 0.\n",
    "- Resampling to a higher level of aggregation (e.g. Daily data into Monthly data)\n",
    "\n",
    "Resampling is <b>permanent</b>! If you want to change it later, you should rerun the notebook from the top.\n",
    "\n",
    "Commonly used resampling levels:\n",
    "- D: Daily\n",
    "- M: Monthly\n",
    "- Q: Quarterly\n",
    "- A: Annually\n",
    "\n",
    "We are using the .sum() with our resample which will add together values that occur, for example, on the same day with daily resampling. You can use any aggregation you like, for example .mean(), however often .sum() makes the most sense!"
   ]
  },
  {
   "cell_type": "code",
   "execution_count": null,
   "metadata": {},
   "outputs": [],
   "source": [
    "df = df.resample('resampling_level').sum()  # see above for level codes: case sensitive!"
   ]
  },
  {
   "cell_type": "markdown",
   "metadata": {},
   "source": [
    "### Step five: Simple plot\n",
    "This is done to get a quick look at the shape of the data. It allows you to get an initial look at whether or not there is seasonality and/or trend. It also lets you see if anything looks wrong (likely a problem with the date formatting and/or resample) - check the X axis to make sure the dates look like they're in the right range and check the shape of the data and whether it looks wildly different to your expectations.\n",
    "\n",
    "If it doesn't look how you might expect, go back and double check whether it's just not in line with your expectations or whether it is a problem with the import and transformations done up to this point."
   ]
  },
  {
   "cell_type": "code",
   "execution_count": null,
   "metadata": {},
   "outputs": [],
   "source": [
    "df['non_datetime_column'].plot()  # replace with your data columm "
   ]
  },
  {
   "cell_type": "markdown",
   "metadata": {},
   "source": [
    "### Seasonal Decomposition\n",
    "\n",
    "A seasonal decomposition will break down a time series into three components:\n",
    "- A trend: is there a consistent and continuous movement over a period of time? This may go up, down, or appear curved. This will help you decide if you need to include a trend in your predictions and what type of trend you need to add. We will come back to this later.\n",
    "- Seasonality: is there a repeating pattern in the data? This can be as simple as one repeating spike or dip, or it could be more complex! This will help you decide if you need to include seasonality in your final model.\n",
    "- Residual: Essentially the residuals of a seasonal decomposition capture the remaining variation in the data that wasn't explained by the trend or seasonality. These will be largest if there is not much trend and/or seasonality in the data.\n",
    "\n",
    "With both trend and seasonality it is important to look at the Y axis scale - it may be a lot smaller than your original data meaning you may see what appears to be a big repeating spike that is actually a very small change in the scale of your original data!"
   ]
  },
  {
   "cell_type": "code",
   "execution_count": null,
   "metadata": {},
   "outputs": [],
   "source": [
    "decomposition = seasonal_decompose(df['non_datetime_column'])\n",
    "# change column and period to suit. Change the period to that identified in the above acf plots.\n",
    "# If no seasonality was identified, leave blank. If this results in an error skip seasonal decomposition.\n",
    "# You will be able to see if there is a trend or not by looking at the original plot.\n",
    "\n",
    "decomposition.plot()"
   ]
  },
  {
   "cell_type": "markdown",
   "metadata": {},
   "source": [
    "Is there a trend?\n",
    "\n",
    "Is there seasonality?\n",
    "\n",
    "Be conscious of the y axis scales - they might be different. You might have a seasonality, but on a much smaller scale than the trend - or vice versa!\n",
    "\n",
    "### Step seven - build and evaluate your test forecasts:\n",
    "\n",
    "If you don't have much trend/seasonality you can use any of:\n",
    "- naive\n",
    "- simple average\n",
    "- moving average\n",
    "- exponential smoothing\n",
    "\n",
    "If you have a trend but no seasonality you can use:\n",
    "- The above but after differencing/detrending\n",
    "- Holt method (exponential smoothing with trend) <b>recommended</b>\n",
    "\n",
    "If you have seasonality but no trend you can use:\n",
    "- Holt-Winters method (exponential smoothing with seasonality) <b>recommended</b>\n",
    "- SARIMA (not covered in this step-by-step)\n",
    "\n",
    "If you have both trend and seasonality you can use:\n",
    "- Exponential smoothing (with trend and seasonality added) <b>recommended</b>\n",
    "- SARIMA - <b>very good, diffuclt to learn</b>\n",
    "\n",
    "While you don't <b>have</b> to compare their performance using RMSE before building a final model in your portfolio, it would be stronger evidence and push you towards a distinction if you do.\n",
    "\n",
    "The following code is going to allow this by splitting your data into a training set and a testing set. If you just want the code for the final model and forecasting, skip ahead to step 7.\n",
    "\n",
    "#### Setting up the train and test data splits\n",
    "You will need to change this code to have a reasonable split of the data (e.g. train on 2/3rds of the data, test on the remaining 3rd. The test split should be the last part of the data (the ones with the date closest to the present)"
   ]
  },
  {
   "cell_type": "code",
   "execution_count": null,
   "metadata": {},
   "outputs": [],
   "source": [
    "train = df.loc['start_date':'end_date']  \n",
    "# start and end of the larger split of data you want to train on\n",
    "\n",
    "test = df.loc['start_date':'end_date']  \n",
    "# start and end of the smaller split you want to test on"
   ]
  },
  {
   "cell_type": "markdown",
   "metadata": {},
   "source": [
    "Now that we have data you can use in the models for evaluation purposes, here is the code to run, visualise, and evaluate each model:\n",
    "\n",
    "#### Naive\n",
    "Naive is the easiest model to run, simply take the last datapoint from the data and predict that into the future. Generally speaking this is a bad final model for a number of reasons:\n",
    "- The amount of erorr you get in the model depends massively on what the last data-point in your training set is. If you stop the training set at the top of a spike the last datapoint will be unusually high\n",
    "- It can only produce a straight line into the future so cannot capture trend or seasonality\n",
    "- Even if the training error is low, it isn't a particularly meaningful indicator of the final model's amount of error because the last data point in the full dataset could be completely different\n",
    "\n",
    "There are only very specific circumstances where a Naive forecast may be the best option. It can be useful if you have large non-seasonal spikes in the data that cause the mean, rolling mean, and simple exponentail smoothing forecasts to be too high. The naive forecast (as lond as it is not taken at the top of a peak, completely ignores these spikes; this means that if the rest of the data is stationary (no seasonality, no trend) the naive forecast could be your best option."
   ]
  },
  {
   "cell_type": "code",
   "execution_count": null,
   "metadata": {},
   "outputs": [],
   "source": [
    "# Assign the last value from the training set to a variable name - replace col name as needed\n",
    "naive = train['non_datetime_column'][-1]\n",
    "\n",
    "# Create a copy of the test data - if you break anything by accident you leave the original intact!\n",
    "naive_test = test.copy()\n",
    "\n",
    "# Create a new column with the forecast containing the naive value\n",
    "naive_test['forecast'] = naive\n",
    "\n",
    "# Plot the data so that you can see a visual representation of how good it is:\n",
    "train['non_datetime_column'].plot(label = 'Training Data')  # replace col name as needed\n",
    "naive_test['non_datetime_column'].plot(label = 'Test Data')  # replace col name as needed\n",
    "naive_test['forecast'].plot(label = 'Forecast')\n",
    "plt.legend(loc = 'best')\n",
    "plt.title('Naive Forecast')\n",
    "\n",
    "plt.show();"
   ]
  },
  {
   "cell_type": "code",
   "execution_count": null,
   "metadata": {},
   "outputs": [],
   "source": [
    "# Evaluate the RMSE of the model:\n",
    "rms = sqrt(mean_squared_error(naive_test['non_datetime_column'], naive_test['forecast']))\n",
    "print(rms)"
   ]
  },
  {
   "cell_type": "markdown",
   "metadata": {},
   "source": [
    "#### Simple Average\n",
    "Often a slightly better prediction than the naive forecast. This is simply the mean of all data points in the dataset, it can usually be considered an improvement on the naive forecast (bar the reasons stated above) because it is not as reliant on having chosen a 'good' cut-off for the training and testing split.\n",
    "\n",
    "It is still not a particularly imformative model because:\n",
    "- It is still a straight horizontal line, so it cannot represent trend or seasonality (only a problem if you have trend or seasonality!)\n",
    "- It is the mean of ALL datapoints, so if your old datapoints are no longer particularly relevant to your current data it is likely to make the simple average less accurate\n",
    "\n",
    "This model can be useful if you have stationary data (no trend, no seasonality) and do not have any large non-seasonal spikes in the data that would cause an average to predict too high for the 'normal' data."
   ]
  },
  {
   "cell_type": "code",
   "execution_count": null,
   "metadata": {},
   "outputs": [],
   "source": [
    "# Assign the mean from the training set to a variable name - replace col name as needed\n",
    "simple_avg = train['non_datetime_column'].mean()\n",
    "\n",
    "# Create a copy of the test data - if you break anything by accident you leave the original intact!\n",
    "simple_test = test.copy()\n",
    "\n",
    "# Create a forecast column containing the simple_avg variable\n",
    "simple_test['forecast'] = simple_avg\n",
    "\n",
    "# Plot the data so that you can see a visual representation of how good it is:\n",
    "train['non_datetime_column'].plot(label = 'Training Data')  # replace col name as needed\n",
    "simple_test['non_datetime_column'].plot(label = 'Test Data')  # replace col name as needed\n",
    "simple_test['forecast'].plot(label = 'Forecast')\n",
    "plt.legend(loc = 'best')\n",
    "plt.title('Simple Average Forecast')\n",
    "\n",
    "plt.show();"
   ]
  },
  {
   "cell_type": "code",
   "execution_count": null,
   "metadata": {},
   "outputs": [],
   "source": [
    "# Evaluate the RMSE of the model:\n",
    "rms = sqrt(mean_squared_error(simple_test['non_datetime_column'], simple_test['forecast']))  # replace col name as needed \n",
    "print(rms)"
   ]
  },
  {
   "cell_type": "markdown",
   "metadata": {},
   "source": [
    "#### Moving Average Model\n",
    "This model is good for when you have a period of highly unusual data (e.g. covid) in the past that is likely to skew the forecast and make it less accurate. The moving average is useful because it avoids the problem that the simple average has by ignoring most of the data in the past. You choose a number of periods to 'roll' over (e.g. in the sample below, if you were using daily data the 7 would mean 7 days -it is the number of rows to look at in your data). This then takes the mean of the last group of datapoints and uses that for your future prediction.\n",
    "\n",
    "It is still a straight horizontal line so can't capture trend or seasonality but it is generally a better forecast than the simple average if your past data would skew the forecast in a way that isn't very helpful. \n",
    "\n",
    "This model can be good for stationary data, however you do have to choose an arbitrary number of periods to roll over. The next method avoids this, and is generally the best model to use for stationary data."
   ]
  },
  {
   "cell_type": "code",
   "execution_count": null,
   "metadata": {},
   "outputs": [],
   "source": [
    "# Assign the last rolling mean period from the training set to a variable name\n",
    "# replace col name and period in rolling as needed\n",
    "moving_avg = train['non_datetime_column'].rolling(7).mean().iloc[-1]\n",
    "\n",
    "# Create a copy of the test data - if you break anything by accident you leave the original intact!\n",
    "moving_test = test.copy()\n",
    "\n",
    "# Create a forecast column containing the simple_avg variable\n",
    "moving_test['forecast'] = moving_avg\n",
    "\n",
    "# Plot the data so that you can see a visual representation of how good it is:\n",
    "train['non_datetime_column'].plot(label = 'Training Data')  # replace col name as needed\n",
    "moving_test['non_datetime_column'].plot(label = 'Test Data')  # replace col name as needed\n",
    "moving_test['forecast'].plot(label = 'Forecast')\n",
    "plt.legend(loc = 'best')\n",
    "plt.title('Moving Average Forecast')\n",
    "\n",
    "plt.show();"
   ]
  },
  {
   "cell_type": "code",
   "execution_count": null,
   "metadata": {},
   "outputs": [],
   "source": [
    "# Evaluate the RMSE of the model:\n",
    "rms = sqrt(mean_squared_error(moving_test['non_datetime_column'], moving_test['forecast']))  # replace col name as needed \n",
    "print(rms)"
   ]
  },
  {
   "cell_type": "markdown",
   "metadata": {},
   "source": [
    "#### Exponential Smoothing Model (no seasonality, no trend)\n",
    "This is a good middle ground between a moving and simple average and adds a bit more complexity to the modelling. Exponential smoothing creates a mean value that considers all of the data, however the data is weighted so that points futher away from the present are exponentially less important.\n",
    "\n",
    "There are settings (optional arguments) you can specify that will allow to choose the rate at which points become less important, however it will optimise for you if you don't choose anything; for the purposes of this example notebook, we have left it out to allow the model to choose the optimal level of smoothing for us.\n",
    "\n",
    "This model is usually the best model to use for stationary data as it considers all of the data while still placing more importance on recent time periods. As this is a model for stationary data, it is still a straight horizontal line so it will not capture seasonality or trend, however we will use the same model with extra arguments included to do this in the future."
   ]
  },
  {
   "cell_type": "code",
   "execution_count": null,
   "metadata": {},
   "outputs": [],
   "source": [
    "# Create a copy of the test data - if you break anything by accident you leave the original intact!\n",
    "es_test = test.copy()\n",
    "\n",
    "# Initialise an exponential smoothing model and fit it to the training data\n",
    "model = ExponentialSmoothing(train['non_datetime_col']).fit()\n",
    "\n",
    "# Create a forecast of the same length as the test data\n",
    "es_test['forecast'] = model.forecast(len(test))\n",
    "\n",
    "# Plot the data so that you can see a visual representation of how good it is:\n",
    "train['non_datetime_column'].plot(label = 'Training Data')  # replace col name as needed\n",
    "es_test['non_datetime_column'].plot(label = 'Test Data')  # replace col name as needed\n",
    "es_test['forecast'].plot(label = 'Forecast')\n",
    "plt.legend(loc = 'best')\n",
    "plt.title('Exponential Smoothing Forecast')\n",
    "\n",
    "plt.show();"
   ]
  },
  {
   "cell_type": "code",
   "execution_count": null,
   "metadata": {},
   "outputs": [],
   "source": [
    "# Evaluate the RMSE of the model:\n",
    "rms = sqrt(mean_squared_error(es_test['non_datetime_column'], es_test['forecast']))  # replace col name as needed \n",
    "print(rms)"
   ]
  },
  {
   "cell_type": "markdown",
   "metadata": {},
   "source": [
    "#### Exponential smoothing with trend\n",
    "This model is the same exponential smoothing model as used above, but with a linear trend component added. If your data has a curved trend, we can actually incoprporate that too - you change the trend from additive (which forms a linear trend) to multiplicative (which forms a curved trend), this can be included using the shorthand `mul` instead of `add`. If you do change it to multiplicative, make sure to change the label and title of the plot - it is no longer a linear trend - just call it exponential smoothing with a multiplicative trend.\n",
    "\n",
    "This is the appropriate model to use when you have a trend, but no seasonality that you're interested in modelling. If you are using an additive trend it will forecast a straight line that can either go up or down depedning on your data. If you are using a multiplicative trend it may be a curved line instead!\n",
    "\n",
    "This is an improvement from the horizontal line models above <b>ONLY</b> if you have a trend - it will be terrible if you try to include a trend when one doesn't exist in your data!"
   ]
  },
  {
   "cell_type": "code",
   "execution_count": null,
   "metadata": {},
   "outputs": [],
   "source": [
    "# Create a copy of the test data - if you break anything by accident you leave the original intact!\n",
    "es_trend_test = test.copy()\n",
    "\n",
    "# Initialise an exponential smoothing model and fit it to the training data, using additive (linear) trend:\n",
    "model = ExponentialSmoothing(train['non_datetime_col'], trend = 'add').fit()\n",
    "\n",
    "# Create a forecast of the same length as the test data\n",
    "es_trend_test['forecast'] = model.forecast(len(test))\n",
    "\n",
    "# Plot the data so that you can see a visual representation of how good it is:\n",
    "train['non_datetime_column'].plot(label = 'Training Data')  # replace col name as needed\n",
    "es_trend_test['non_datetime_column'].plot(label = 'Test Data')  # replace col name as needed\n",
    "es_trend_test['forecast'].plot(label = \"Forecast\")\n",
    "plt.legend(loc = 'best')\n",
    "plt.title(\"Exponential Smoothing with a Linear Trend\")\n",
    "\n",
    "plt.show();"
   ]
  },
  {
   "cell_type": "code",
   "execution_count": null,
   "metadata": {},
   "outputs": [],
   "source": [
    "# Evaluate the RMSE of the model:\n",
    "rms = sqrt(mean_squared_error(es_trend_test['non_datetime_column'], es_trend_test['forecast']))  # replace col name as needed \n",
    "print(rms)"
   ]
  },
  {
   "cell_type": "markdown",
   "metadata": {},
   "source": [
    "#### Exponential Smoothing with seasonality\n",
    "Similar to the above - it is still an exponential smoothing model however this time it includes a seasonality but no trend. This can also be additive or multiplicative; use additive is the seasonality is stationary and consistent, use multiplicative if the effect gets bigger or smaller/thinner or wider over time. You can identify if this is the case from your original simple plot. Usually, using additive is fine.\n",
    "\n",
    "This is the appropriate model to use if you have seasonality but no trend. You can include a `seasonal_periods` argument to specify the seasonal period you want to use, or leave it blank and allow the model to figure out the appropriate seasonality. Usually leaving it to find the seasonality is perfectly valid - if seasonality was identified in the seasonal decomposition the model will find the same effect and use it for your forecast.\n",
    "\n",
    "Again, this is <b>ONLY</b> and improvement on the early models if your seasonal decomposition showed seasonality, otherwise it is likely to be a bad model."
   ]
  },
  {
   "cell_type": "code",
   "execution_count": null,
   "metadata": {},
   "outputs": [],
   "source": [
    "# Create a copy of the test data - if you break anything by accident you leave the original intact!\n",
    "es_seasonal_test = test.copy()\n",
    "\n",
    "# Initialise an exponential smoothing model and fit it to the training data:\n",
    "model = ExponentialSmoothing(train['non_datetime_col'], seasonal = 'add').fit() # change or remove period if needed, replace col name\n",
    "\n",
    "# Create a forecast of the same length as the test data\n",
    "es_seasonal_test['forecast'] = model.forecast(len(test))\n",
    "\n",
    "# Plot the data so that you can see a visual representation of how good it is:\n",
    "train['non_datetime_column'].plot(label = 'Training Data')  # replace col name as needed\n",
    "es_seasonal_test['non_datetime_column'].plot(label = 'Test Data')  # replace col name as needed\n",
    "es_seasonal_test['forecast'].plot(label = \"Forecast\")\n",
    "plt.legend(loc = 'best')\n",
    "plt.title(\"Exponential Smoothing with Seasonality\")\n",
    "\n",
    "plt.show();"
   ]
  },
  {
   "cell_type": "code",
   "execution_count": null,
   "metadata": {},
   "outputs": [],
   "source": [
    "# Evaluate the RMSE of the model:\n",
    "rms = sqrt(mean_squared_error(es_seasonal_test['non_datetime_column'], es_seasonal_test['forecast']))  # replace col name as needed \n",
    "print(rms)"
   ]
  },
  {
   "cell_type": "markdown",
   "metadata": {},
   "source": [
    "#### Exponential smoothing with both trend and seasonality\n",
    "\n",
    "This is an appropriate model to use if you have both a seasonality and a trend in the data. This is a combination of the above, adding both the seasonal and trend arguments. The same rules apply for changing to a multiplicative model, but feel free to reach out to your coach if you aren't sure which one to use! (or run one with additive elements and one with multiplicative elements and see which gives you a better model fit according to the RMSE).\n",
    "\n",
    "This model will <b>ONLY</b> be better than the early models if you have <b>both</b> trend and seasonality as confirmed by the seasonal decomposition.\n",
    "\n",
    "The more complex models may look more fun, but if they are giving you a worse RMSE then they are likely not the model you should choose for your final forecast."
   ]
  },
  {
   "cell_type": "code",
   "execution_count": null,
   "metadata": {},
   "outputs": [],
   "source": [
    "# Create a copy of the test data - if you break anything by accident you leave the original intact!\n",
    "es_both_test = test.copy()\n",
    "\n",
    "# Initialise an exponential smoothing model and fit it to the training data:\n",
    "model = ExponentialSmoothing(train['non_datetime_col'],trend = 'add', seasonal = 'add').fit() # change or remove period if needed, replace col name\n",
    "\n",
    "# Create a forecast of the same length as the test data\n",
    "es_both_test['forecast'] = model.forecast(len(test))\n",
    "\n",
    "# Plot the data so that you can see a visual representation of how good it is:\n",
    "train['non_datetime_column'].plot(label = 'Training Data')  # replace col name as needed\n",
    "es_both_test['non_datetime_column'].plot(label = 'Test Data')  # replace col name as needed\n",
    "es_both_test['forecast'].plot(label = \"Forecast\")\n",
    "plt.legend(loc = 'best')\n",
    "plt.title(\"Exponential Smoothing with Trend and Seasonality\")\n",
    "\n",
    "plt.show();"
   ]
  },
  {
   "cell_type": "code",
   "execution_count": null,
   "metadata": {},
   "outputs": [],
   "source": [
    "# Evaluate the RMSE of the model:\n",
    "rms = sqrt(mean_squared_error(es_both_test['non_datetime_column'], es_both_test['forecast']))  # replace col name as needed \n",
    "print(rms)"
   ]
  },
  {
   "cell_type": "markdown",
   "metadata": {},
   "source": [
    "### Step eight: Build your final model that you'll use for prediction\n",
    "\n",
    "You will ideally choose the model above that gives the best fit for the test data based on the RMSE. When you write up your project it will be important to explain the results of model testing and what the RMSE means for each model you test, remember:\n",
    "\n",
    "- The RMSE (Root Mean Squared Error) is an error measure that compares the predicted value to the true value by taking the difference between then, squaring them, adding them together for each data point, and finally square rooting it.\n",
    "- This gives you a measure that you can read as: The average amount of error for any given prediction.\n",
    "- For example, if the RMSE was 5 you would say that on average you expect your predictions to be wrong by 5 units in your Y axis scale.\n",
    "- A 'good' value for RMSE depends on your scale, if for example you were predicting profits in the 0-100 range an RMSE of 50 is very bad (50% of the total scale) but if you are predicting profits in a range of 0-1000000 then a RMSE of 50 is very good (0.00005% of the total scale)\n",
    "\n",
    "You should therefore choose the model withe the lowest RMSE, as it is the model with the closest fit to the test data. The only times when you may choose against the RMSE is if your organisation is only interested in a forecast if it shows seasonality/trend and the RMSE is only minimally worse for the model that includes either/both of these.\n",
    "\n",
    "Once you have tested the methods and chosen a final model we no longer require the train and test data - when you build your final model you always use all of the data you have avaialble to build forecasts for the future.\n",
    "\n",
    "#### Create forecast\n",
    "You will only choose one of these, so choose which block of code is relavant to you:\n",
    "##### Naive"
   ]
  },
  {
   "cell_type": "code",
   "execution_count": null,
   "metadata": {},
   "outputs": [],
   "source": [
    "forecast = df['non_datetime_column'][-1] # replace col name \n",
    "print(forecast)"
   ]
  },
  {
   "cell_type": "markdown",
   "metadata": {},
   "source": [
    "This number is your forcast into the future.\n",
    "##### Simple Average"
   ]
  },
  {
   "cell_type": "code",
   "execution_count": null,
   "metadata": {},
   "outputs": [],
   "source": [
    "forecast = df['non_datetime_column'].mean() # replace col name\n",
    "print(forecast)"
   ]
  },
  {
   "cell_type": "markdown",
   "metadata": {},
   "source": [
    "This number is your forecast into the future.\n",
    "\n",
    "##### Moving Average"
   ]
  },
  {
   "cell_type": "code",
   "execution_count": null,
   "metadata": {},
   "outputs": [],
   "source": [
    "forecast = df['non_datetime_column'].rolling(7).mean().iloc[-1]  # change rolling period if needed and replace col name\n",
    "print(forecast)"
   ]
  },
  {
   "cell_type": "markdown",
   "metadata": {},
   "source": [
    "This number is your forecast into the future.\n",
    "\n",
    "<b>The following forecasts are slightly more complex, they require 2 steps:</b>\n",
    "\n",
    "- fit the model\n",
    "- create a forecast of n rows into the future (you choose the number)\n",
    "\n",
    "##### Simple Exponential Smoothing (no seasonality, no trend)"
   ]
  },
  {
   "cell_type": "code",
   "execution_count": null,
   "metadata": {},
   "outputs": [],
   "source": [
    "model = ExponentialSmoothing(df['non_datetime_col']).fit() # replace col name as needed\n",
    "forecast = model.forecast(52)  #  change number to the length of forecast you want.\n",
    "# if your data is daily, this number is days; if your data is weekly, this number is weeks etc\n",
    "\n",
    "print(forecast)"
   ]
  },
  {
   "cell_type": "markdown",
   "metadata": {},
   "source": [
    "This is your forecast for the future. While they will all be the same right now, this will change for the more complex versions of exponential smoothing.\n",
    "\n",
    "##### Exponential Smoothing with Trend\n",
    "You can change from additive to multiplicative trend if needed, however bare in mind this is no longer a linear trend when you write it up!"
   ]
  },
  {
   "cell_type": "code",
   "execution_count": null,
   "metadata": {},
   "outputs": [],
   "source": [
    "model = ExponentialSmoothing(df['non_datetime_col'], trend = 'add').fit() # replace col name as needed\n",
    "forecast = model.forecast(52)  #  change number to the length of forecast you want.\n",
    "# if your data is daily, this number is days; if your data is weekly, this number is weeks etc\n",
    "\n",
    "print(forecast)"
   ]
  },
  {
   "cell_type": "markdown",
   "metadata": {},
   "source": [
    "This is your forecast for the future, we can visualise this later.\n",
    "\n",
    "##### Exponential Smoothing with Seasonality\n",
    "Again, you can change to multiplicative seasonality if needed."
   ]
  },
  {
   "cell_type": "code",
   "execution_count": null,
   "metadata": {},
   "outputs": [],
   "source": [
    "model = ExponentialSmoothing(df['non_datetime_col'], seasonal = 'add').fit() # change or remove period if needed, replace col name\n",
    "forecast = model.forecast(52)  #  change number to the length of forecast you want.\n",
    "# if your data is daily, this number is days; if your data is weekly, this number is weeks etc\n",
    "\n",
    "print(forecast)"
   ]
  },
  {
   "cell_type": "markdown",
   "metadata": {},
   "source": [
    "This is your forecast for the future, we can visualise this later.\n",
    "\n",
    "##### Exponential Smoothing with both Trend and Seasonality\n",
    "Again, you can change to multiplicative if needed."
   ]
  },
  {
   "cell_type": "code",
   "execution_count": null,
   "metadata": {},
   "outputs": [],
   "source": [
    "model = ExponentialSmoothing(df['non_datetime_col'], trend = 'add', seasonal = 'add').fit() # change or remove period if needed, replace col name\n",
    "forecast = model.forecast(52)  #  change number to the length of forecast you want.\n",
    "# if your data is daily, this number is days; if your data is weekly, this number is weeks etc\n",
    "\n",
    "print(forecast)"
   ]
  },
  {
   "cell_type": "markdown",
   "metadata": {},
   "source": [
    "This is your forecast into the future. The next step may be to create a visual for it.\n",
    "### Step nine: Visualise the forecast\n",
    "\n",
    "#### Method one - use this for any of: Naive, Simple Average, Rolling Mean\n",
    "\n",
    "Because your final prediction is just one number we need to build a datatset with the future dates as the index and the predcited value as the forecast:"
   ]
  },
  {
   "cell_type": "code",
   "execution_count": 26,
   "metadata": {
    "scrolled": true
   },
   "outputs": [
    {
     "data": {
      "text/html": [
       "<div>\n",
       "<style scoped>\n",
       "    .dataframe tbody tr th:only-of-type {\n",
       "        vertical-align: middle;\n",
       "    }\n",
       "\n",
       "    .dataframe tbody tr th {\n",
       "        vertical-align: top;\n",
       "    }\n",
       "\n",
       "    .dataframe thead th {\n",
       "        text-align: right;\n",
       "    }\n",
       "</style>\n",
       "<table border=\"1\" class=\"dataframe\">\n",
       "  <thead>\n",
       "    <tr style=\"text-align: right;\">\n",
       "      <th></th>\n",
       "      <th>date</th>\n",
       "      <th>forecast</th>\n",
       "    </tr>\n",
       "  </thead>\n",
       "  <tbody>\n",
       "    <tr>\n",
       "      <th>0</th>\n",
       "      <td>2012-10-26</td>\n",
       "      <td>1</td>\n",
       "    </tr>\n",
       "    <tr>\n",
       "      <th>1</th>\n",
       "      <td>2012-10-27</td>\n",
       "      <td>1</td>\n",
       "    </tr>\n",
       "    <tr>\n",
       "      <th>2</th>\n",
       "      <td>2012-10-28</td>\n",
       "      <td>1</td>\n",
       "    </tr>\n",
       "    <tr>\n",
       "      <th>3</th>\n",
       "      <td>2012-10-29</td>\n",
       "      <td>1</td>\n",
       "    </tr>\n",
       "    <tr>\n",
       "      <th>4</th>\n",
       "      <td>2012-10-30</td>\n",
       "      <td>1</td>\n",
       "    </tr>\n",
       "  </tbody>\n",
       "</table>\n",
       "</div>"
      ],
      "text/plain": [
       "        date  forecast\n",
       "0 2012-10-26         1\n",
       "1 2012-10-27         1\n",
       "2 2012-10-28         1\n",
       "3 2012-10-29         1\n",
       "4 2012-10-30         1"
      ]
     },
     "execution_count": 26,
     "metadata": {},
     "output_type": "execute_result"
    }
   ],
   "source": [
    "forecast_dates = pd.date_range(df.index[-1], periods =  10, freq = 'D')  # Replace periods with how long you want to predict for\n",
    "# Replace freq if appropriate: same codes as .resample\n",
    "\n",
    "forecast_table = pd.DataFrame({'date':forecast_dates,\n",
    "                               'forecast':forecast})"
   ]
  },
  {
   "cell_type": "markdown",
   "metadata": {},
   "source": [
    "Now that we have a dataframe, we can plot this with the original data:"
   ]
  },
  {
   "cell_type": "code",
   "execution_count": null,
   "metadata": {},
   "outputs": [],
   "source": [
    "# set a bigger figure size\n",
    "plt.figure(figsize=(12,8))\n",
    "\n",
    "# plot the original data\n",
    "df['non_datetime_column'].plot(label = 'Past Data')\n",
    "\n",
    "# plot the forecast\n",
    "forecast_table['forecast'].plot(label = 'Forecast')\n",
    "\n",
    "# Add some best practices (legend and title)\n",
    "plt.title('Forecasting X into the future')  # Change to an appropriate title\n",
    "plt.ylabel('non_datetime_label')  # change to an appropriate Y axis label\n",
    "plt.legend(loc='best')\n",
    "\n",
    "# show the plot\n",
    "plt.show();"
   ]
  },
  {
   "cell_type": "markdown",
   "metadata": {},
   "source": [
    "#### Method two: Use this for any of the exponential smoothing models \n",
    "\n",
    "Your forecast already comes out with a date attached, so we simply need to turn it into a dataframe to make it easy to plot!"
   ]
  },
  {
   "cell_type": "code",
   "execution_count": null,
   "metadata": {},
   "outputs": [],
   "source": [
    "forecast_table = pd.DataFrame(forecast, columns = ['forecast'])"
   ]
  },
  {
   "cell_type": "markdown",
   "metadata": {},
   "source": [
    "Now that we have a dataframe, we can plot this with the original data:"
   ]
  },
  {
   "cell_type": "code",
   "execution_count": null,
   "metadata": {},
   "outputs": [],
   "source": [
    "# set a bigger figure size\n",
    "plt.figure(figsize=(12,8))\n",
    "\n",
    "# plot the original data\n",
    "df['non_datetime_column'].plot(label = 'Past Data')\n",
    "\n",
    "# plot the forecast\n",
    "forecast_table['forecast'].plot(label = 'Forecast')\n",
    "\n",
    "# Add some best practices (legend and title)\n",
    "plt.title('Forecasting X into the future')  # Change to an appropriate title\n",
    "plt.ylabel('non_datetime_label')  # change to an appropriate Y axis label\n",
    "plt.legend(loc='best')\n",
    "\n",
    "# show the plot\n",
    "plt.show();"
   ]
  },
  {
   "cell_type": "markdown",
   "metadata": {},
   "source": [
    "## WORKED EXAMPLE: Walmart data"
   ]
  },
  {
   "cell_type": "code",
   "execution_count": 27,
   "metadata": {},
   "outputs": [],
   "source": [
    "# the basics\n",
    "import pandas as pd\n",
    "import matplotlib.pyplot as plt\n",
    "import seaborn as sns\n",
    "import numpy as np\n",
    "# autocorrelation and seasonal decomposition\n",
    "from statsmodels.graphics.tsaplots import plot_acf, plot_pacf\n",
    "from statsmodels.tsa.seasonal import seasonal_decompose\n",
    "# the models\n",
    "from statsmodels.tsa.api import ExponentialSmoothing\n",
    "# model evaluation:\n",
    "from sklearn.metrics import mean_squared_error\n",
    "from math import sqrt"
   ]
  },
  {
   "cell_type": "code",
   "execution_count": 28,
   "metadata": {},
   "outputs": [],
   "source": [
    "df = pd.read_csv('store1_sales.csv')"
   ]
  },
  {
   "cell_type": "code",
   "execution_count": 29,
   "metadata": {},
   "outputs": [
    {
     "data": {
      "text/html": [
       "<div>\n",
       "<style scoped>\n",
       "    .dataframe tbody tr th:only-of-type {\n",
       "        vertical-align: middle;\n",
       "    }\n",
       "\n",
       "    .dataframe tbody tr th {\n",
       "        vertical-align: top;\n",
       "    }\n",
       "\n",
       "    .dataframe thead th {\n",
       "        text-align: right;\n",
       "    }\n",
       "</style>\n",
       "<table border=\"1\" class=\"dataframe\">\n",
       "  <thead>\n",
       "    <tr style=\"text-align: right;\">\n",
       "      <th></th>\n",
       "      <th>Date</th>\n",
       "      <th>Weekly_Sales</th>\n",
       "    </tr>\n",
       "  </thead>\n",
       "  <tbody>\n",
       "    <tr>\n",
       "      <th>0</th>\n",
       "      <td>2010-02-05</td>\n",
       "      <td>1643690.90</td>\n",
       "    </tr>\n",
       "    <tr>\n",
       "      <th>1</th>\n",
       "      <td>2010-02-12</td>\n",
       "      <td>1641957.44</td>\n",
       "    </tr>\n",
       "    <tr>\n",
       "      <th>2</th>\n",
       "      <td>2010-02-19</td>\n",
       "      <td>1611968.17</td>\n",
       "    </tr>\n",
       "    <tr>\n",
       "      <th>3</th>\n",
       "      <td>2010-02-26</td>\n",
       "      <td>1409727.59</td>\n",
       "    </tr>\n",
       "    <tr>\n",
       "      <th>4</th>\n",
       "      <td>2010-03-05</td>\n",
       "      <td>1554806.68</td>\n",
       "    </tr>\n",
       "  </tbody>\n",
       "</table>\n",
       "</div>"
      ],
      "text/plain": [
       "         Date  Weekly_Sales\n",
       "0  2010-02-05    1643690.90\n",
       "1  2010-02-12    1641957.44\n",
       "2  2010-02-19    1611968.17\n",
       "3  2010-02-26    1409727.59\n",
       "4  2010-03-05    1554806.68"
      ]
     },
     "execution_count": 29,
     "metadata": {},
     "output_type": "execute_result"
    }
   ],
   "source": [
    "df.head()"
   ]
  },
  {
   "cell_type": "code",
   "execution_count": 30,
   "metadata": {},
   "outputs": [
    {
     "name": "stdout",
     "output_type": "stream",
     "text": [
      "<class 'pandas.core.frame.DataFrame'>\n",
      "RangeIndex: 143 entries, 0 to 142\n",
      "Data columns (total 2 columns):\n",
      " #   Column        Non-Null Count  Dtype  \n",
      "---  ------        --------------  -----  \n",
      " 0   Date          143 non-null    object \n",
      " 1   Weekly_Sales  143 non-null    float64\n",
      "dtypes: float64(1), object(1)\n",
      "memory usage: 2.4+ KB\n"
     ]
    }
   ],
   "source": [
    "df.info()"
   ]
  },
  {
   "cell_type": "code",
   "execution_count": 32,
   "metadata": {},
   "outputs": [],
   "source": [
    "# converting to datetime\n",
    "df['Date'] = pd.to_datetime(df['Date'], format = '%Y-%m-%d')  \n",
    "# Note the different date format - look at the .head and you'll see why!"
   ]
  },
  {
   "cell_type": "code",
   "execution_count": 33,
   "metadata": {},
   "outputs": [],
   "source": [
    "# set the datetime column as the index\n",
    "df.set_index('Date', inplace=True)"
   ]
  },
  {
   "cell_type": "code",
   "execution_count": 44,
   "metadata": {},
   "outputs": [],
   "source": [
    "# the data is weekly, resampling to weekly to ensure any missing weeks do not interfere with seasonlity etc:\n",
    "df = df.resample('W').sum()"
   ]
  },
  {
   "cell_type": "code",
   "execution_count": 45,
   "metadata": {
    "scrolled": true
   },
   "outputs": [
    {
     "data": {
      "text/plain": [
       "<AxesSubplot:xlabel='Date'>"
      ]
     },
     "execution_count": 45,
     "metadata": {},
     "output_type": "execute_result"
    },
    {
     "data": {
      "image/png": "[encoded data removed]",
      "text/plain": [
       "<Figure size 432x288 with 1 Axes>"
      ]
     },
     "metadata": {
      "needs_background": "light"
     },
     "output_type": "display_data"
    }
   ],
   "source": [
    "df['Weekly_Sales'].plot()"
   ]
  },
  {
   "cell_type": "code",
   "execution_count": 56,
   "metadata": {},
   "outputs": [
    {
     "data": {
      "image/png": "[encoded data removed]",
      "text/plain": [
       "<Figure size 432x288 with 4 Axes>"
      ]
     },
     "metadata": {
      "needs_background": "light"
     },
     "output_type": "display_data"
    }
   ],
   "source": [
    "decomposition = seasonal_decompose(df['Weekly_Sales'])\n",
    "\n",
    "decomposition.plot();"
   ]
  },
  {
   "cell_type": "markdown",
   "metadata": {},
   "source": [
    "There is a trend and there is also seasonality. Most likely, the final method we looked at above will be the best fit. Let's evaluate it against a simple moving average using train and test splits:"
   ]
  },
  {
   "cell_type": "code",
   "execution_count": 48,
   "metadata": {},
   "outputs": [],
   "source": [
    "train = df.loc['2010': '2012-01']\n",
    "test = df.loc['2012-02':]"
   ]
  },
  {
   "cell_type": "markdown",
   "metadata": {},
   "source": [
    "##### Simple Average:"
   ]
  },
  {
   "cell_type": "code",
   "execution_count": 49,
   "metadata": {},
   "outputs": [
    {
     "data": {
      "image/png": "[encoded data removed]",
      "text/plain": [
       "<Figure size 432x288 with 1 Axes>"
      ]
     },
     "metadata": {
      "needs_background": "light"
     },
     "output_type": "display_data"
    }
   ],
   "source": [
    "simple_avg = train['Weekly_Sales'].mean()\n",
    "\n",
    "simple_test = test.copy()\n",
    "\n",
    "simple_test['forecast'] = simple_avg\n",
    "\n",
    "train['Weekly_Sales'].plot(label = 'Training Data') \n",
    "simple_test['Weekly_Sales'].plot(label = 'Test Data')\n",
    "simple_test['forecast'].plot(label = 'Simple Average Forecast')\n",
    "plt.legend(loc = 'best')\n",
    "plt.title('Simple Average Forecast')\n",
    "\n",
    "plt.show();"
   ]
  },
  {
   "cell_type": "code",
   "execution_count": 50,
   "metadata": {},
   "outputs": [
    {
     "name": "stdout",
     "output_type": "stream",
     "text": [
      "122190.58215024063\n"
     ]
    }
   ],
   "source": [
    "rms = sqrt(mean_squared_error(simple_test['Weekly_Sales'], simple_test['forecast']))  # replace col name as needed \n",
    "print(rms)"
   ]
  },
  {
   "cell_type": "markdown",
   "metadata": {},
   "source": [
    "##### Exponential smoothing with both trend and seasonality:"
   ]
  },
  {
   "cell_type": "code",
   "execution_count": 57,
   "metadata": {},
   "outputs": [
    {
     "name": "stderr",
     "output_type": "stream",
     "text": [
      "C:\\ProgramData\\Anaconda3\\lib\\site-packages\\statsmodels\\tsa\\holtwinters\\model.py:427: FutureWarning: After 0.13 initialization must be handled at model creation\n",
      "  warnings.warn(\n",
      "C:\\ProgramData\\Anaconda3\\lib\\site-packages\\statsmodels\\tsa\\holtwinters\\model.py:920: ConvergenceWarning: Optimization failed to converge. Check mle_retvals.\n",
      "  warnings.warn(\n"
     ]
    },
    {
     "data": {
      "image/png": "[encoded data removed]",
      "text/plain": [
       "<Figure size 432x288 with 1 Axes>"
      ]
     },
     "metadata": {
      "needs_background": "light"
     },
     "output_type": "display_data"
    }
   ],
   "source": [
    "es_both_test = test.copy()\n",
    "\n",
    "model = ExponentialSmoothing(train['Weekly_Sales'], trend = 'add', seasonal = 'add').fit() # change or remove period if needed, replace col name\n",
    "\n",
    "es_both_test['forecast'] = model.forecast(len(test))\n",
    "\n",
    "train['Weekly_Sales'].plot(label = 'Training Data')\n",
    "es_both_test['Weekly_Sales'].plot(label = 'Test Data')\n",
    "es_both_test['forecast'].plot(label = \"Exponential Smoothing (trend and seasonality)\")\n",
    "plt.legend(loc = 'best')\n",
    "plt.title(\"Exponential Smoothing (trend and seasonality) Forecast\")\n",
    "\n",
    "plt.show();"
   ]
  },
  {
   "cell_type": "code",
   "execution_count": 58,
   "metadata": {},
   "outputs": [
    {
     "name": "stdout",
     "output_type": "stream",
     "text": [
      "87679.73595927103\n"
     ]
    }
   ],
   "source": [
    "rms = sqrt(mean_squared_error(simple_test['Weekly_Sales'], es_both_test['forecast']))  # replace col name as needed \n",
    "print(rms)"
   ]
  },
  {
   "cell_type": "markdown",
   "metadata": {},
   "source": [
    "This model has evaluated with far less error and visibly looks to map to the data quite well, we should use this one when building the model to forecast into the future."
   ]
  },
  {
   "cell_type": "code",
   "execution_count": 60,
   "metadata": {
    "scrolled": true
   },
   "outputs": [
    {
     "name": "stdout",
     "output_type": "stream",
     "text": [
      "2012-11-04    1.735533e+06\n",
      "2012-11-11    1.643297e+06\n",
      "2012-11-18    1.599245e+06\n",
      "2012-11-25    2.087154e+06\n",
      "2012-12-02    1.649210e+06\n",
      "                  ...     \n",
      "2014-09-28    1.541689e+06\n",
      "2014-10-05    1.764521e+06\n",
      "2014-10-12    1.662353e+06\n",
      "2014-10-19    1.608405e+06\n",
      "2014-10-26    1.599972e+06\n",
      "Freq: W-SUN, Length: 104, dtype: float64\n"
     ]
    },
    {
     "name": "stderr",
     "output_type": "stream",
     "text": [
      "C:\\ProgramData\\Anaconda3\\lib\\site-packages\\statsmodels\\tsa\\holtwinters\\model.py:920: ConvergenceWarning: Optimization failed to converge. Check mle_retvals.\n",
      "  warnings.warn(\n"
     ]
    }
   ],
   "source": [
    "model = ExponentialSmoothing(df['Weekly_Sales'], trend = 'add', seasonal = 'add').fit()\n",
    "forecast = model.forecast(104)\n",
    "\n",
    "print(forecast)"
   ]
  },
  {
   "cell_type": "code",
   "execution_count": 61,
   "metadata": {},
   "outputs": [
    {
     "data": {
      "text/html": [
       "<div>\n",
       "<style scoped>\n",
       "    .dataframe tbody tr th:only-of-type {\n",
       "        vertical-align: middle;\n",
       "    }\n",
       "\n",
       "    .dataframe tbody tr th {\n",
       "        vertical-align: top;\n",
       "    }\n",
       "\n",
       "    .dataframe thead th {\n",
       "        text-align: right;\n",
       "    }\n",
       "</style>\n",
       "<table border=\"1\" class=\"dataframe\">\n",
       "  <thead>\n",
       "    <tr style=\"text-align: right;\">\n",
       "      <th></th>\n",
       "      <th>forecast</th>\n",
       "    </tr>\n",
       "  </thead>\n",
       "  <tbody>\n",
       "    <tr>\n",
       "      <th>2012-11-04</th>\n",
       "      <td>1.735533e+06</td>\n",
       "    </tr>\n",
       "    <tr>\n",
       "      <th>2012-11-11</th>\n",
       "      <td>1.643297e+06</td>\n",
       "    </tr>\n",
       "    <tr>\n",
       "      <th>2012-11-18</th>\n",
       "      <td>1.599245e+06</td>\n",
       "    </tr>\n",
       "    <tr>\n",
       "      <th>2012-11-25</th>\n",
       "      <td>2.087154e+06</td>\n",
       "    </tr>\n",
       "    <tr>\n",
       "      <th>2012-12-02</th>\n",
       "      <td>1.649210e+06</td>\n",
       "    </tr>\n",
       "  </tbody>\n",
       "</table>\n",
       "</div>"
      ],
      "text/plain": [
       "                forecast\n",
       "2012-11-04  1.735533e+06\n",
       "2012-11-11  1.643297e+06\n",
       "2012-11-18  1.599245e+06\n",
       "2012-11-25  2.087154e+06\n",
       "2012-12-02  1.649210e+06"
      ]
     },
     "execution_count": 61,
     "metadata": {},
     "output_type": "execute_result"
    }
   ],
   "source": [
    "forecast_table = pd.DataFrame(forecast, columns = ['forecast'])\n",
    "forecast_table.head()"
   ]
  },
  {
   "cell_type": "code",
   "execution_count": 62,
   "metadata": {
    "scrolled": false
   },
   "outputs": [
    {
     "data": {
      "image/png": "[encoded data removed]",
      "text/plain": [
       "<Figure size 864x576 with 1 Axes>"
      ]
     },
     "metadata": {
      "needs_background": "light"
     },
     "output_type": "display_data"
    }
   ],
   "source": [
    "plt.figure(figsize=(12,8))\n",
    "\n",
    "df['Weekly_Sales'].plot(label = 'Past Data')\n",
    "\n",
    "forecast_table['forecast'].plot(label = 'Forecast')\n",
    "\n",
    "plt.title('Forecasting 2 Years of Weekly Sales')\n",
    "plt.ylabel('Weekly Sales')\n",
    "plt.legend(loc='best')\n",
    "\n",
    "plt.show();"
   ]
  },
  {
   "cell_type": "markdown",
   "metadata": {},
   "source": [
    "Remember to bear in mind that, while we've evalurated these models and chosen the one with the best likihood of mapping our future data well, this is still a forecast. We can never be 100% certain that our forecasts will perform well in the future - if we could we'd all be off getting rich on the stock market! This is a best guess, which can be used to prepare and strategise, but it shouldn't be treated as a certainty."
   ]
  }
 ],
 "metadata": {
  "kernelspec": {
   "display_name": "Python 3",
   "language": "python",
   "name": "python3"
  },
  "language_info": {
   "codemirror_mode": {
    "name": "ipython",
    "version": 3
   },
   "file_extension": ".py",
   "mimetype": "text/x-python",
   "name": "python",
   "nbconvert_exporter": "python",
   "pygments_lexer": "ipython3",
   "version": "3.8.5"
  }
 },
 "nbformat": 4,
 "nbformat_minor": 5
}
