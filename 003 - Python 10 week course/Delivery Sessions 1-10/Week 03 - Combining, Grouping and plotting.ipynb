{
 "cells": [
  {
   "cell_type": "code",
   "execution_count": 1,
   "metadata": {},
   "outputs": [],
   "source": [
    "# Make sure this is commented in VS code\n",
    "#exec('''import urllib; exec(urllib.request.urlopen('https://raw.githubusercontent.com/NickGMV/visual-tools/main/visual-aids-jupyter8.txt').read())''')# exec('''import urllib; exec(urllib.request.urlopen('https://raw.githubusercontent.com/NickGMV/visual-tools/main/visual-aids-jupyter8.txt').read())''')"
   ]
  },
  {
   "attachments": {},
   "cell_type": "markdown",
   "metadata": {},
   "source": [
    "<hr style = \"height:5px; background-color: blue; border-color:blue;\">\n",
    "<hr style = \"height:5px; background-color: #89CFF0; border-color:#89CFF0;\">\n",
    "<hr style = \"height:5px; background-color: black; border-color:black;\">\n",
    "\n",
    "### 10 weeks of Python - Week 3\n",
    "\n",
    "# Combining, Grouping and plotting data\n",
    "\n",
    "<hr style = \"height:5px; background-color: blue; border-color:blue;\">\n",
    "<hr style = \"height:5px; background-color: #89CFF0; border-color:#89CFF0;\">\n",
    "<hr style = \"height:5px; background-color: black; border-color:black;\">"
   ]
  },
  {
   "attachments": {},
   "cell_type": "markdown",
   "metadata": {},
   "source": [
    "### Imports and load data - (see week 1&2 if stuck)"
   ]
  },
  {
   "cell_type": "code",
   "execution_count": 1,
   "metadata": {},
   "outputs": [],
   "source": [
    "# imports\n",
    "import pandas as pd \n",
    "# use numpy nulls\n",
    "import numpy as np\n",
    "#matplotlib lets us plot graphs \n",
    "import matplotlib.pyplot as plt\n",
    "#seabrn enables pretty graphs\n",
    "import seaborn as sns"
   ]
  },
  {
   "cell_type": "code",
   "execution_count": 9,
   "metadata": {},
   "outputs": [
    {
     "data": {
      "text/html": [
       "<div>\n",
       "<style scoped>\n",
       "    .dataframe tbody tr th:only-of-type {\n",
       "        vertical-align: middle;\n",
       "    }\n",
       "\n",
       "    .dataframe tbody tr th {\n",
       "        vertical-align: top;\n",
       "    }\n",
       "\n",
       "    .dataframe thead th {\n",
       "        text-align: right;\n",
       "    }\n",
       "</style>\n",
       "<table border=\"1\" class=\"dataframe\">\n",
       "  <thead>\n",
       "    <tr style=\"text-align: right;\">\n",
       "      <th></th>\n",
       "      <th>country</th>\n",
       "      <th>child_mort</th>\n",
       "      <th>exports</th>\n",
       "      <th>health</th>\n",
       "      <th>imports</th>\n",
       "      <th>income</th>\n",
       "      <th>inflation</th>\n",
       "      <th>life_expec</th>\n",
       "      <th>total_fer</th>\n",
       "      <th>gdpp</th>\n",
       "    </tr>\n",
       "  </thead>\n",
       "  <tbody>\n",
       "    <tr>\n",
       "      <th>0</th>\n",
       "      <td>Afghanistan</td>\n",
       "      <td>90.2</td>\n",
       "      <td>10.0</td>\n",
       "      <td>7.58</td>\n",
       "      <td>44.9</td>\n",
       "      <td>1610.0</td>\n",
       "      <td>9.44</td>\n",
       "      <td>56.2</td>\n",
       "      <td>5.82</td>\n",
       "      <td>553.0</td>\n",
       "    </tr>\n",
       "    <tr>\n",
       "      <th>1</th>\n",
       "      <td>Albania</td>\n",
       "      <td>16.6</td>\n",
       "      <td>28.0</td>\n",
       "      <td>6.55</td>\n",
       "      <td>48.6</td>\n",
       "      <td>9930.0</td>\n",
       "      <td>4.49</td>\n",
       "      <td>76.3</td>\n",
       "      <td>1.65</td>\n",
       "      <td>4090.0</td>\n",
       "    </tr>\n",
       "    <tr>\n",
       "      <th>2</th>\n",
       "      <td>Algeria</td>\n",
       "      <td>27.3</td>\n",
       "      <td>38.4</td>\n",
       "      <td>4.17</td>\n",
       "      <td>31.4</td>\n",
       "      <td>12900.0</td>\n",
       "      <td>16.10</td>\n",
       "      <td>76.5</td>\n",
       "      <td>2.89</td>\n",
       "      <td>4460.0</td>\n",
       "    </tr>\n",
       "    <tr>\n",
       "      <th>3</th>\n",
       "      <td>Angola</td>\n",
       "      <td>NaN</td>\n",
       "      <td>NaN</td>\n",
       "      <td>NaN</td>\n",
       "      <td>NaN</td>\n",
       "      <td>5900.0</td>\n",
       "      <td>22.40</td>\n",
       "      <td>60.1</td>\n",
       "      <td>6.16</td>\n",
       "      <td>3530.0</td>\n",
       "    </tr>\n",
       "    <tr>\n",
       "      <th>4</th>\n",
       "      <td>Antigua and Barbuda</td>\n",
       "      <td>10.3</td>\n",
       "      <td>45.5</td>\n",
       "      <td>6.03</td>\n",
       "      <td>58.9</td>\n",
       "      <td>19100.0</td>\n",
       "      <td>1.44</td>\n",
       "      <td>76.8</td>\n",
       "      <td>2.13</td>\n",
       "      <td>12200.0</td>\n",
       "    </tr>\n",
       "  </tbody>\n",
       "</table>\n",
       "</div>"
      ],
      "text/plain": [
       "               country  child_mort  exports  health  imports   income  \\\n",
       "0          Afghanistan        90.2     10.0    7.58     44.9   1610.0   \n",
       "1              Albania        16.6     28.0    6.55     48.6   9930.0   \n",
       "2              Algeria        27.3     38.4    4.17     31.4  12900.0   \n",
       "3               Angola         NaN      NaN     NaN      NaN   5900.0   \n",
       "4  Antigua and Barbuda        10.3     45.5    6.03     58.9  19100.0   \n",
       "\n",
       "   inflation  life_expec  total_fer     gdpp  \n",
       "0       9.44        56.2       5.82    553.0  \n",
       "1       4.49        76.3       1.65   4090.0  \n",
       "2      16.10        76.5       2.89   4460.0  \n",
       "3      22.40        60.1       6.16   3530.0  \n",
       "4       1.44        76.8       2.13  12200.0  "
      ]
     },
     "execution_count": 9,
     "metadata": {},
     "output_type": "execute_result"
    }
   ],
   "source": [
    "#load in data \n",
    "countries = pd.read_csv('../Assets/Data/Country-cleaned-data.csv')\n",
    "countries.head()"
   ]
  },
  {
   "attachments": {},
   "cell_type": "markdown",
   "metadata": {},
   "source": [
    "<hr style = \"height:5px; background-color: blue; border-color:blue;\">\n",
    "<hr style = \"height:5px; background-color: #89CFF0; border-color:#89CFF0;\">\n",
    "<hr style = \"height:5px; background-color: black; border-color:black;\">\n",
    "\n",
    "### Combining data \n",
    "\n",
    "Before we can group our data into any meaningful categories we need to get some catgeorical data\n",
    "To do this we will join(merge) and concatenate(union) some data-sets to our cleaned data from previous weeks.\n",
    "\n",
    "original continent data from here https://gist.githubusercontent.com/stevewithington/20a69c0b6d2ff846ea5d35e5fc47f26c/raw/13716ceb2f22b5643ce5e7039643c86a0e0c6da6/country-and-continent-codes-list-csv.csv"
   ]
  },
  {
   "attachments": {},
   "cell_type": "markdown",
   "metadata": {},
   "source": [
    "#### Using concat funtion to complete a union"
   ]
  },
  {
   "cell_type": "code",
   "execution_count": 28,
   "metadata": {},
   "outputs": [
    {
     "data": {
      "text/plain": [
       "(164, 10)"
      ]
     },
     "execution_count": 28,
     "metadata": {},
     "output_type": "execute_result"
    }
   ],
   "source": [
    "# Load our OG dataset\n",
    "countries = pd.read_csv('../Assets/Data//Country-cleaned-data.csv')\n",
    "#countries.head()\n",
    "countries = countries.drop('Unnamed: 0',axis = 1)\n",
    "\n",
    "# when combining dataframe shape is very helpful\n",
    "countries.shape"
   ]
  },
  {
   "cell_type": "code",
   "execution_count": 29,
   "metadata": {},
   "outputs": [
    {
     "data": {
      "text/html": [
       "<div>\n",
       "<style scoped>\n",
       "    .dataframe tbody tr th:only-of-type {\n",
       "        vertical-align: middle;\n",
       "    }\n",
       "\n",
       "    .dataframe tbody tr th {\n",
       "        vertical-align: top;\n",
       "    }\n",
       "\n",
       "    .dataframe thead th {\n",
       "        text-align: right;\n",
       "    }\n",
       "</style>\n",
       "<table border=\"1\" class=\"dataframe\">\n",
       "  <thead>\n",
       "    <tr style=\"text-align: right;\">\n",
       "      <th></th>\n",
       "      <th>country</th>\n",
       "      <th>child_mort</th>\n",
       "      <th>exports</th>\n",
       "      <th>health</th>\n",
       "      <th>imports</th>\n",
       "      <th>income</th>\n",
       "      <th>inflation</th>\n",
       "      <th>life_expec</th>\n",
       "      <th>total_fer</th>\n",
       "      <th>gdpp</th>\n",
       "    </tr>\n",
       "  </thead>\n",
       "  <tbody>\n",
       "    <tr>\n",
       "      <th>0</th>\n",
       "      <td>Vatican city</td>\n",
       "      <td>0.0</td>\n",
       "      <td>0.0</td>\n",
       "      <td>20.00</td>\n",
       "      <td>20.0</td>\n",
       "      <td>1610</td>\n",
       "      <td>1.00</td>\n",
       "      <td>80.0</td>\n",
       "      <td>5.82</td>\n",
       "      <td>5555</td>\n",
       "    </tr>\n",
       "    <tr>\n",
       "      <th>1</th>\n",
       "      <td>San Marino</td>\n",
       "      <td>16.6</td>\n",
       "      <td>28.0</td>\n",
       "      <td>6.55</td>\n",
       "      <td>48.6</td>\n",
       "      <td>9930</td>\n",
       "      <td>4.49</td>\n",
       "      <td>76.3</td>\n",
       "      <td>1.65</td>\n",
       "      <td>4333</td>\n",
       "    </tr>\n",
       "    <tr>\n",
       "      <th>2</th>\n",
       "      <td>Lichtenstein</td>\n",
       "      <td>27.3</td>\n",
       "      <td>38.4</td>\n",
       "      <td>4.17</td>\n",
       "      <td>31.4</td>\n",
       "      <td>12900</td>\n",
       "      <td>16.10</td>\n",
       "      <td>76.5</td>\n",
       "      <td>2.89</td>\n",
       "      <td>4460</td>\n",
       "    </tr>\n",
       "    <tr>\n",
       "      <th>3</th>\n",
       "      <td>Bill Gate's island</td>\n",
       "      <td>0.0</td>\n",
       "      <td>0.0</td>\n",
       "      <td>30.00</td>\n",
       "      <td>60.0</td>\n",
       "      <td>5900</td>\n",
       "      <td>0.00</td>\n",
       "      <td>130.0</td>\n",
       "      <td>6.16</td>\n",
       "      <td>1000000000</td>\n",
       "    </tr>\n",
       "  </tbody>\n",
       "</table>\n",
       "</div>"
      ],
      "text/plain": [
       "              country  child_mort  exports  health  imports  income  \\\n",
       "0        Vatican city         0.0      0.0   20.00     20.0    1610   \n",
       "1          San Marino        16.6     28.0    6.55     48.6    9930   \n",
       "2        Lichtenstein        27.3     38.4    4.17     31.4   12900   \n",
       "3  Bill Gate's island         0.0      0.0   30.00     60.0    5900   \n",
       "\n",
       "   inflation  life_expec  total_fer        gdpp  \n",
       "0       1.00        80.0       5.82        5555  \n",
       "1       4.49        76.3       1.65        4333  \n",
       "2      16.10        76.5       2.89        4460  \n",
       "3       0.00       130.0       6.16  1000000000  "
      ]
     },
     "execution_count": 29,
     "metadata": {},
     "output_type": "execute_result"
    }
   ],
   "source": [
    "# Load new countries added to our data \n",
    "new_countries = pd.read_csv('../Assets/Data//new-countries.csv')\n",
    "new_countries.head()"
   ]
  },
  {
   "cell_type": "code",
   "execution_count": 30,
   "metadata": {},
   "outputs": [
    {
     "data": {
      "text/plain": [
       "'hello everyone'"
      ]
     },
     "execution_count": 30,
     "metadata": {},
     "output_type": "execute_result"
    }
   ],
   "source": [
    "a = 'hello '\n",
    "b = 'everyone'\n",
    "\n",
    "a + b"
   ]
  },
  {
   "cell_type": "code",
   "execution_count": 31,
   "metadata": {},
   "outputs": [],
   "source": [
    "# complete the union CAUTION columns must match so check names!\n",
    "countries = pd.concat([countries,new_countries], ignore_index = True)"
   ]
  },
  {
   "cell_type": "code",
   "execution_count": 32,
   "metadata": {},
   "outputs": [
    {
     "data": {
      "text/plain": [
       "(168, 10)"
      ]
     },
     "execution_count": 32,
     "metadata": {},
     "output_type": "execute_result"
    }
   ],
   "source": [
    "# check shape to see if new rows are in \n",
    "countries.shape\n",
    "#countries.head()"
   ]
  },
  {
   "cell_type": "code",
   "execution_count": 33,
   "metadata": {},
   "outputs": [
    {
     "data": {
      "text/html": [
       "<div>\n",
       "<style scoped>\n",
       "    .dataframe tbody tr th:only-of-type {\n",
       "        vertical-align: middle;\n",
       "    }\n",
       "\n",
       "    .dataframe tbody tr th {\n",
       "        vertical-align: top;\n",
       "    }\n",
       "\n",
       "    .dataframe thead th {\n",
       "        text-align: right;\n",
       "    }\n",
       "</style>\n",
       "<table border=\"1\" class=\"dataframe\">\n",
       "  <thead>\n",
       "    <tr style=\"text-align: right;\">\n",
       "      <th></th>\n",
       "      <th>country</th>\n",
       "      <th>child_mort</th>\n",
       "      <th>exports</th>\n",
       "      <th>health</th>\n",
       "      <th>imports</th>\n",
       "      <th>income</th>\n",
       "      <th>inflation</th>\n",
       "      <th>life_expec</th>\n",
       "      <th>total_fer</th>\n",
       "      <th>gdpp</th>\n",
       "    </tr>\n",
       "  </thead>\n",
       "  <tbody>\n",
       "    <tr>\n",
       "      <th>163</th>\n",
       "      <td>Zambia</td>\n",
       "      <td>83.1</td>\n",
       "      <td>37.0</td>\n",
       "      <td>5.89</td>\n",
       "      <td>30.9</td>\n",
       "      <td>3280.0</td>\n",
       "      <td>14.00</td>\n",
       "      <td>52.0</td>\n",
       "      <td>5.40</td>\n",
       "      <td>1.460000e+03</td>\n",
       "    </tr>\n",
       "    <tr>\n",
       "      <th>164</th>\n",
       "      <td>Vatican city</td>\n",
       "      <td>0.0</td>\n",
       "      <td>0.0</td>\n",
       "      <td>20.00</td>\n",
       "      <td>20.0</td>\n",
       "      <td>1610.0</td>\n",
       "      <td>1.00</td>\n",
       "      <td>80.0</td>\n",
       "      <td>5.82</td>\n",
       "      <td>5.555000e+03</td>\n",
       "    </tr>\n",
       "    <tr>\n",
       "      <th>165</th>\n",
       "      <td>San Marino</td>\n",
       "      <td>16.6</td>\n",
       "      <td>28.0</td>\n",
       "      <td>6.55</td>\n",
       "      <td>48.6</td>\n",
       "      <td>9930.0</td>\n",
       "      <td>4.49</td>\n",
       "      <td>76.3</td>\n",
       "      <td>1.65</td>\n",
       "      <td>4.333000e+03</td>\n",
       "    </tr>\n",
       "    <tr>\n",
       "      <th>166</th>\n",
       "      <td>Lichtenstein</td>\n",
       "      <td>27.3</td>\n",
       "      <td>38.4</td>\n",
       "      <td>4.17</td>\n",
       "      <td>31.4</td>\n",
       "      <td>12900.0</td>\n",
       "      <td>16.10</td>\n",
       "      <td>76.5</td>\n",
       "      <td>2.89</td>\n",
       "      <td>4.460000e+03</td>\n",
       "    </tr>\n",
       "    <tr>\n",
       "      <th>167</th>\n",
       "      <td>Bill Gate's island</td>\n",
       "      <td>0.0</td>\n",
       "      <td>0.0</td>\n",
       "      <td>30.00</td>\n",
       "      <td>60.0</td>\n",
       "      <td>5900.0</td>\n",
       "      <td>0.00</td>\n",
       "      <td>130.0</td>\n",
       "      <td>6.16</td>\n",
       "      <td>1.000000e+09</td>\n",
       "    </tr>\n",
       "  </tbody>\n",
       "</table>\n",
       "</div>"
      ],
      "text/plain": [
       "                country  child_mort  exports  health  imports   income  \\\n",
       "163              Zambia        83.1     37.0    5.89     30.9   3280.0   \n",
       "164        Vatican city         0.0      0.0   20.00     20.0   1610.0   \n",
       "165          San Marino        16.6     28.0    6.55     48.6   9930.0   \n",
       "166        Lichtenstein        27.3     38.4    4.17     31.4  12900.0   \n",
       "167  Bill Gate's island         0.0      0.0   30.00     60.0   5900.0   \n",
       "\n",
       "     inflation  life_expec  total_fer          gdpp  \n",
       "163      14.00        52.0       5.40  1.460000e+03  \n",
       "164       1.00        80.0       5.82  5.555000e+03  \n",
       "165       4.49        76.3       1.65  4.333000e+03  \n",
       "166      16.10        76.5       2.89  4.460000e+03  \n",
       "167       0.00       130.0       6.16  1.000000e+09  "
      ]
     },
     "execution_count": 33,
     "metadata": {},
     "output_type": "execute_result"
    }
   ],
   "source": [
    "countries.tail()"
   ]
  },
  {
   "attachments": {},
   "cell_type": "markdown",
   "metadata": {},
   "source": [
    "#### Using merge function to do joins"
   ]
  },
  {
   "cell_type": "code",
   "execution_count": 34,
   "metadata": {},
   "outputs": [
    {
     "data": {
      "text/html": [
       "<div>\n",
       "<style scoped>\n",
       "    .dataframe tbody tr th:only-of-type {\n",
       "        vertical-align: middle;\n",
       "    }\n",
       "\n",
       "    .dataframe tbody tr th {\n",
       "        vertical-align: top;\n",
       "    }\n",
       "\n",
       "    .dataframe thead th {\n",
       "        text-align: right;\n",
       "    }\n",
       "</style>\n",
       "<table border=\"1\" class=\"dataframe\">\n",
       "  <thead>\n",
       "    <tr style=\"text-align: right;\">\n",
       "      <th></th>\n",
       "      <th>Continent_Name</th>\n",
       "      <th>Continent_Code</th>\n",
       "      <th>Two_Letter_Country_Code</th>\n",
       "      <th>Country_Number</th>\n",
       "      <th>cleaned_country</th>\n",
       "    </tr>\n",
       "  </thead>\n",
       "  <tbody>\n",
       "    <tr>\n",
       "      <th>0</th>\n",
       "      <td>Asia</td>\n",
       "      <td>AS</td>\n",
       "      <td>AF</td>\n",
       "      <td>4.0</td>\n",
       "      <td>Afghanistan</td>\n",
       "    </tr>\n",
       "    <tr>\n",
       "      <th>1</th>\n",
       "      <td>Europe</td>\n",
       "      <td>EU</td>\n",
       "      <td>AL</td>\n",
       "      <td>8.0</td>\n",
       "      <td>Albania</td>\n",
       "    </tr>\n",
       "    <tr>\n",
       "      <th>2</th>\n",
       "      <td>Antarctica</td>\n",
       "      <td>AN</td>\n",
       "      <td>AQ</td>\n",
       "      <td>10.0</td>\n",
       "      <td>Antarctica (the territory South of 60 deg S)</td>\n",
       "    </tr>\n",
       "    <tr>\n",
       "      <th>3</th>\n",
       "      <td>Africa</td>\n",
       "      <td>AF</td>\n",
       "      <td>DZ</td>\n",
       "      <td>12.0</td>\n",
       "      <td>Algeria</td>\n",
       "    </tr>\n",
       "    <tr>\n",
       "      <th>4</th>\n",
       "      <td>Oceania</td>\n",
       "      <td>OC</td>\n",
       "      <td>AS</td>\n",
       "      <td>16.0</td>\n",
       "      <td>American Samoa</td>\n",
       "    </tr>\n",
       "  </tbody>\n",
       "</table>\n",
       "</div>"
      ],
      "text/plain": [
       "  Continent_Name Continent_Code Two_Letter_Country_Code  Country_Number  \\\n",
       "0           Asia             AS                      AF             4.0   \n",
       "1         Europe             EU                      AL             8.0   \n",
       "2     Antarctica             AN                      AQ            10.0   \n",
       "3         Africa             AF                      DZ            12.0   \n",
       "4        Oceania             OC                      AS            16.0   \n",
       "\n",
       "                                cleaned_country  \n",
       "0                                   Afghanistan  \n",
       "1                                       Albania  \n",
       "2  Antarctica (the territory South of 60 deg S)  \n",
       "3                                       Algeria  \n",
       "4                                American Samoa  "
      ]
     },
     "execution_count": 34,
     "metadata": {},
     "output_type": "execute_result"
    }
   ],
   "source": [
    "# load in continents data\n",
    "continents = pd.read_csv('../Assets/Data/country-groups.csv')\n",
    "continents.duplicated(subset = ['cleaned_country']).sum()\n",
    "continents.head()"
   ]
  },
  {
   "cell_type": "code",
   "execution_count": 35,
   "metadata": {},
   "outputs": [
    {
     "data": {
      "text/plain": [
       "10"
      ]
     },
     "execution_count": 35,
     "metadata": {},
     "output_type": "execute_result"
    }
   ],
   "source": [
    "# uncomment to have a look\n",
    "#continents.head()\n",
    "# duplicates are a big worry when joining so check and remove\n",
    "continents.duplicated(subset = ['cleaned_country']).sum()"
   ]
  },
  {
   "cell_type": "code",
   "execution_count": 36,
   "metadata": {},
   "outputs": [],
   "source": [
    "continents = continents.drop_duplicates(subset = ['cleaned_country'])"
   ]
  },
  {
   "cell_type": "code",
   "execution_count": 37,
   "metadata": {},
   "outputs": [],
   "source": [
    "#load in the credit ratings data\n",
    "credit = pd.read_csv('../Assets/Data/country-credit.csv')"
   ]
  },
  {
   "cell_type": "code",
   "execution_count": 38,
   "metadata": {},
   "outputs": [
    {
     "data": {
      "text/plain": [
       "0"
      ]
     },
     "execution_count": 38,
     "metadata": {},
     "output_type": "execute_result"
    }
   ],
   "source": [
    "# uncomment to have a look\n",
    "#credit.head()\n",
    "#check duplicates\n",
    "credit.duplicated(subset = ['Country']).sum()"
   ]
  },
  {
   "cell_type": "code",
   "execution_count": 39,
   "metadata": {},
   "outputs": [
    {
     "data": {
      "text/html": [
       "<div>\n",
       "<style scoped>\n",
       "    .dataframe tbody tr th:only-of-type {\n",
       "        vertical-align: middle;\n",
       "    }\n",
       "\n",
       "    .dataframe tbody tr th {\n",
       "        vertical-align: top;\n",
       "    }\n",
       "\n",
       "    .dataframe thead th {\n",
       "        text-align: right;\n",
       "    }\n",
       "</style>\n",
       "<table border=\"1\" class=\"dataframe\">\n",
       "  <thead>\n",
       "    <tr style=\"text-align: right;\">\n",
       "      <th></th>\n",
       "      <th>Country</th>\n",
       "      <th>credit rating</th>\n",
       "    </tr>\n",
       "  </thead>\n",
       "  <tbody>\n",
       "    <tr>\n",
       "      <th>0</th>\n",
       "      <td>Albania</td>\n",
       "      <td>B+</td>\n",
       "    </tr>\n",
       "    <tr>\n",
       "      <th>1</th>\n",
       "      <td>Andorra</td>\n",
       "      <td>BBB</td>\n",
       "    </tr>\n",
       "    <tr>\n",
       "      <th>2</th>\n",
       "      <td>Angola</td>\n",
       "      <td>CCC+</td>\n",
       "    </tr>\n",
       "    <tr>\n",
       "      <th>3</th>\n",
       "      <td>Argentina</td>\n",
       "      <td>CCC+</td>\n",
       "    </tr>\n",
       "    <tr>\n",
       "      <th>4</th>\n",
       "      <td>Armenia</td>\n",
       "      <td>B+</td>\n",
       "    </tr>\n",
       "  </tbody>\n",
       "</table>\n",
       "</div>"
      ],
      "text/plain": [
       "     Country credit rating\n",
       "0    Albania            B+\n",
       "1    Andorra           BBB\n",
       "2     Angola          CCC+\n",
       "3  Argentina          CCC+\n",
       "4    Armenia            B+"
      ]
     },
     "execution_count": 39,
     "metadata": {},
     "output_type": "execute_result"
    }
   ],
   "source": [
    "credit.head()"
   ]
  },
  {
   "attachments": {},
   "cell_type": "markdown",
   "metadata": {},
   "source": [
    "#### Merging data"
   ]
  },
  {
   "cell_type": "code",
   "execution_count": 40,
   "metadata": {},
   "outputs": [
    {
     "data": {
      "text/html": [
       "<div>\n",
       "<style scoped>\n",
       "    .dataframe tbody tr th:only-of-type {\n",
       "        vertical-align: middle;\n",
       "    }\n",
       "\n",
       "    .dataframe tbody tr th {\n",
       "        vertical-align: top;\n",
       "    }\n",
       "\n",
       "    .dataframe thead th {\n",
       "        text-align: right;\n",
       "    }\n",
       "</style>\n",
       "<table border=\"1\" class=\"dataframe\">\n",
       "  <thead>\n",
       "    <tr style=\"text-align: right;\">\n",
       "      <th></th>\n",
       "      <th>country</th>\n",
       "      <th>child_mort</th>\n",
       "      <th>exports</th>\n",
       "      <th>health</th>\n",
       "      <th>imports</th>\n",
       "      <th>income</th>\n",
       "      <th>inflation</th>\n",
       "      <th>life_expec</th>\n",
       "      <th>total_fer</th>\n",
       "      <th>gdpp</th>\n",
       "      <th>Continent_Name</th>\n",
       "      <th>Continent_Code</th>\n",
       "      <th>Two_Letter_Country_Code</th>\n",
       "      <th>Country_Number</th>\n",
       "      <th>cleaned_country</th>\n",
       "    </tr>\n",
       "  </thead>\n",
       "  <tbody>\n",
       "    <tr>\n",
       "      <th>0</th>\n",
       "      <td>Afghanistan</td>\n",
       "      <td>90.2</td>\n",
       "      <td>10.0</td>\n",
       "      <td>7.58</td>\n",
       "      <td>44.9</td>\n",
       "      <td>1610.0</td>\n",
       "      <td>9.44</td>\n",
       "      <td>56.2</td>\n",
       "      <td>5.82</td>\n",
       "      <td>553.0</td>\n",
       "      <td>Asia</td>\n",
       "      <td>AS</td>\n",
       "      <td>AF</td>\n",
       "      <td>4.0</td>\n",
       "      <td>Afghanistan</td>\n",
       "    </tr>\n",
       "    <tr>\n",
       "      <th>1</th>\n",
       "      <td>Albania</td>\n",
       "      <td>16.6</td>\n",
       "      <td>28.0</td>\n",
       "      <td>6.55</td>\n",
       "      <td>48.6</td>\n",
       "      <td>9930.0</td>\n",
       "      <td>4.49</td>\n",
       "      <td>76.3</td>\n",
       "      <td>1.65</td>\n",
       "      <td>4090.0</td>\n",
       "      <td>Europe</td>\n",
       "      <td>EU</td>\n",
       "      <td>AL</td>\n",
       "      <td>8.0</td>\n",
       "      <td>Albania</td>\n",
       "    </tr>\n",
       "    <tr>\n",
       "      <th>2</th>\n",
       "      <td>Algeria</td>\n",
       "      <td>27.3</td>\n",
       "      <td>38.4</td>\n",
       "      <td>4.17</td>\n",
       "      <td>31.4</td>\n",
       "      <td>12900.0</td>\n",
       "      <td>16.10</td>\n",
       "      <td>76.5</td>\n",
       "      <td>2.89</td>\n",
       "      <td>4460.0</td>\n",
       "      <td>Africa</td>\n",
       "      <td>AF</td>\n",
       "      <td>DZ</td>\n",
       "      <td>12.0</td>\n",
       "      <td>Algeria</td>\n",
       "    </tr>\n",
       "    <tr>\n",
       "      <th>3</th>\n",
       "      <td>Angola</td>\n",
       "      <td>NaN</td>\n",
       "      <td>NaN</td>\n",
       "      <td>NaN</td>\n",
       "      <td>NaN</td>\n",
       "      <td>5900.0</td>\n",
       "      <td>22.40</td>\n",
       "      <td>60.1</td>\n",
       "      <td>6.16</td>\n",
       "      <td>3530.0</td>\n",
       "      <td>Africa</td>\n",
       "      <td>AF</td>\n",
       "      <td>AO</td>\n",
       "      <td>24.0</td>\n",
       "      <td>Angola</td>\n",
       "    </tr>\n",
       "    <tr>\n",
       "      <th>4</th>\n",
       "      <td>Antigua and Barbuda</td>\n",
       "      <td>10.3</td>\n",
       "      <td>45.5</td>\n",
       "      <td>6.03</td>\n",
       "      <td>58.9</td>\n",
       "      <td>19100.0</td>\n",
       "      <td>1.44</td>\n",
       "      <td>76.8</td>\n",
       "      <td>2.13</td>\n",
       "      <td>12200.0</td>\n",
       "      <td>North America</td>\n",
       "      <td>NaN</td>\n",
       "      <td>AG</td>\n",
       "      <td>28.0</td>\n",
       "      <td>Antigua and Barbuda</td>\n",
       "    </tr>\n",
       "  </tbody>\n",
       "</table>\n",
       "</div>"
      ],
      "text/plain": [
       "               country  child_mort  exports  health  imports   income  \\\n",
       "0          Afghanistan        90.2     10.0    7.58     44.9   1610.0   \n",
       "1              Albania        16.6     28.0    6.55     48.6   9930.0   \n",
       "2              Algeria        27.3     38.4    4.17     31.4  12900.0   \n",
       "3               Angola         NaN      NaN     NaN      NaN   5900.0   \n",
       "4  Antigua and Barbuda        10.3     45.5    6.03     58.9  19100.0   \n",
       "\n",
       "   inflation  life_expec  total_fer     gdpp Continent_Name Continent_Code  \\\n",
       "0       9.44        56.2       5.82    553.0           Asia             AS   \n",
       "1       4.49        76.3       1.65   4090.0         Europe             EU   \n",
       "2      16.10        76.5       2.89   4460.0         Africa             AF   \n",
       "3      22.40        60.1       6.16   3530.0         Africa             AF   \n",
       "4       1.44        76.8       2.13  12200.0  North America            NaN   \n",
       "\n",
       "  Two_Letter_Country_Code  Country_Number      cleaned_country  \n",
       "0                      AF             4.0          Afghanistan  \n",
       "1                      AL             8.0              Albania  \n",
       "2                      DZ            12.0              Algeria  \n",
       "3                      AO            24.0               Angola  \n",
       "4                      AG            28.0  Antigua and Barbuda  "
      ]
     },
     "execution_count": 40,
     "metadata": {},
     "output_type": "execute_result"
    }
   ],
   "source": [
    "# Merge lets us build joins, we specify two data frames to join, the columns we should use for the joins and join type\n",
    "full_country = pd.merge(countries,continents, left_on = 'country',right_on='cleaned_country', how = 'left')\n",
    "\n",
    "# Take a peek to check it worked\n",
    "full_country.head()"
   ]
  },
  {
   "cell_type": "code",
   "execution_count": 41,
   "metadata": {},
   "outputs": [
    {
     "data": {
      "text/html": [
       "<div>\n",
       "<style scoped>\n",
       "    .dataframe tbody tr th:only-of-type {\n",
       "        vertical-align: middle;\n",
       "    }\n",
       "\n",
       "    .dataframe tbody tr th {\n",
       "        vertical-align: top;\n",
       "    }\n",
       "\n",
       "    .dataframe thead th {\n",
       "        text-align: right;\n",
       "    }\n",
       "</style>\n",
       "<table border=\"1\" class=\"dataframe\">\n",
       "  <thead>\n",
       "    <tr style=\"text-align: right;\">\n",
       "      <th></th>\n",
       "      <th>country</th>\n",
       "      <th>child_mort</th>\n",
       "      <th>exports</th>\n",
       "      <th>health</th>\n",
       "      <th>imports</th>\n",
       "      <th>income</th>\n",
       "      <th>inflation</th>\n",
       "      <th>life_expec</th>\n",
       "      <th>total_fer</th>\n",
       "      <th>gdpp</th>\n",
       "      <th>Continent_Name</th>\n",
       "      <th>Continent_Code</th>\n",
       "      <th>Two_Letter_Country_Code</th>\n",
       "      <th>Country_Number</th>\n",
       "      <th>cleaned_country</th>\n",
       "      <th>Country</th>\n",
       "      <th>credit rating</th>\n",
       "    </tr>\n",
       "  </thead>\n",
       "  <tbody>\n",
       "    <tr>\n",
       "      <th>0</th>\n",
       "      <td>Afghanistan</td>\n",
       "      <td>90.2</td>\n",
       "      <td>10.0</td>\n",
       "      <td>7.58</td>\n",
       "      <td>44.9</td>\n",
       "      <td>1610.0</td>\n",
       "      <td>9.44</td>\n",
       "      <td>56.2</td>\n",
       "      <td>5.82</td>\n",
       "      <td>553.0</td>\n",
       "      <td>Asia</td>\n",
       "      <td>AS</td>\n",
       "      <td>AF</td>\n",
       "      <td>4.0</td>\n",
       "      <td>Afghanistan</td>\n",
       "      <td>NaN</td>\n",
       "      <td>NaN</td>\n",
       "    </tr>\n",
       "    <tr>\n",
       "      <th>1</th>\n",
       "      <td>Albania</td>\n",
       "      <td>16.6</td>\n",
       "      <td>28.0</td>\n",
       "      <td>6.55</td>\n",
       "      <td>48.6</td>\n",
       "      <td>9930.0</td>\n",
       "      <td>4.49</td>\n",
       "      <td>76.3</td>\n",
       "      <td>1.65</td>\n",
       "      <td>4090.0</td>\n",
       "      <td>Europe</td>\n",
       "      <td>EU</td>\n",
       "      <td>AL</td>\n",
       "      <td>8.0</td>\n",
       "      <td>Albania</td>\n",
       "      <td>Albania</td>\n",
       "      <td>B+</td>\n",
       "    </tr>\n",
       "    <tr>\n",
       "      <th>2</th>\n",
       "      <td>Algeria</td>\n",
       "      <td>27.3</td>\n",
       "      <td>38.4</td>\n",
       "      <td>4.17</td>\n",
       "      <td>31.4</td>\n",
       "      <td>12900.0</td>\n",
       "      <td>16.10</td>\n",
       "      <td>76.5</td>\n",
       "      <td>2.89</td>\n",
       "      <td>4460.0</td>\n",
       "      <td>Africa</td>\n",
       "      <td>AF</td>\n",
       "      <td>DZ</td>\n",
       "      <td>12.0</td>\n",
       "      <td>Algeria</td>\n",
       "      <td>NaN</td>\n",
       "      <td>NaN</td>\n",
       "    </tr>\n",
       "    <tr>\n",
       "      <th>3</th>\n",
       "      <td>Angola</td>\n",
       "      <td>NaN</td>\n",
       "      <td>NaN</td>\n",
       "      <td>NaN</td>\n",
       "      <td>NaN</td>\n",
       "      <td>5900.0</td>\n",
       "      <td>22.40</td>\n",
       "      <td>60.1</td>\n",
       "      <td>6.16</td>\n",
       "      <td>3530.0</td>\n",
       "      <td>Africa</td>\n",
       "      <td>AF</td>\n",
       "      <td>AO</td>\n",
       "      <td>24.0</td>\n",
       "      <td>Angola</td>\n",
       "      <td>Angola</td>\n",
       "      <td>CCC+</td>\n",
       "    </tr>\n",
       "    <tr>\n",
       "      <th>4</th>\n",
       "      <td>Antigua and Barbuda</td>\n",
       "      <td>10.3</td>\n",
       "      <td>45.5</td>\n",
       "      <td>6.03</td>\n",
       "      <td>58.9</td>\n",
       "      <td>19100.0</td>\n",
       "      <td>1.44</td>\n",
       "      <td>76.8</td>\n",
       "      <td>2.13</td>\n",
       "      <td>12200.0</td>\n",
       "      <td>North America</td>\n",
       "      <td>NaN</td>\n",
       "      <td>AG</td>\n",
       "      <td>28.0</td>\n",
       "      <td>Antigua and Barbuda</td>\n",
       "      <td>NaN</td>\n",
       "      <td>NaN</td>\n",
       "    </tr>\n",
       "  </tbody>\n",
       "</table>\n",
       "</div>"
      ],
      "text/plain": [
       "               country  child_mort  exports  health  imports   income  \\\n",
       "0          Afghanistan        90.2     10.0    7.58     44.9   1610.0   \n",
       "1              Albania        16.6     28.0    6.55     48.6   9930.0   \n",
       "2              Algeria        27.3     38.4    4.17     31.4  12900.0   \n",
       "3               Angola         NaN      NaN     NaN      NaN   5900.0   \n",
       "4  Antigua and Barbuda        10.3     45.5    6.03     58.9  19100.0   \n",
       "\n",
       "   inflation  life_expec  total_fer     gdpp Continent_Name Continent_Code  \\\n",
       "0       9.44        56.2       5.82    553.0           Asia             AS   \n",
       "1       4.49        76.3       1.65   4090.0         Europe             EU   \n",
       "2      16.10        76.5       2.89   4460.0         Africa             AF   \n",
       "3      22.40        60.1       6.16   3530.0         Africa             AF   \n",
       "4       1.44        76.8       2.13  12200.0  North America            NaN   \n",
       "\n",
       "  Two_Letter_Country_Code  Country_Number      cleaned_country  Country  \\\n",
       "0                      AF             4.0          Afghanistan      NaN   \n",
       "1                      AL             8.0              Albania  Albania   \n",
       "2                      DZ            12.0              Algeria      NaN   \n",
       "3                      AO            24.0               Angola   Angola   \n",
       "4                      AG            28.0  Antigua and Barbuda      NaN   \n",
       "\n",
       "  credit rating  \n",
       "0           NaN  \n",
       "1            B+  \n",
       "2           NaN  \n",
       "3          CCC+  \n",
       "4           NaN  "
      ]
     },
     "execution_count": 41,
     "metadata": {},
     "output_type": "execute_result"
    }
   ],
   "source": [
    "# Merge lets us build joins, we specify two data frames to join, the columns we should use for the joins and join type\n",
    "full_country = full_country.merge(credit,left_on = 'country', right_on = 'Country',how='left')\n",
    "\n",
    "# Take a peek to check it worked\n",
    "full_country.head()"
   ]
  },
  {
   "cell_type": "code",
   "execution_count": 42,
   "metadata": {},
   "outputs": [
    {
     "data": {
      "text/plain": [
       "0"
      ]
     },
     "execution_count": 42,
     "metadata": {},
     "output_type": "execute_result"
    }
   ],
   "source": [
    "# Joins can introduce duplicates (one of the possible risks) let's check and fix if needed\n",
    "full_country.duplicated(subset = ['country']).sum()"
   ]
  },
  {
   "cell_type": "code",
   "execution_count": 43,
   "metadata": {},
   "outputs": [
    {
     "data": {
      "text/plain": [
       "(168, 17)"
      ]
     },
     "execution_count": 43,
     "metadata": {},
     "output_type": "execute_result"
    }
   ],
   "source": [
    "full_country = full_country.drop_duplicates()\n",
    "full_country = full_country.dropna(how = 'all')\n",
    "\n",
    "full_country.shape"
   ]
  },
  {
   "cell_type": "code",
   "execution_count": 44,
   "metadata": {},
   "outputs": [],
   "source": [
    "# let's output this for use with hypothesis and modelling later\n",
    "full_country.to_csv('../Assets/Data/modelling_countries.csv')"
   ]
  },
  {
   "attachments": {},
   "cell_type": "markdown",
   "metadata": {},
   "source": [
    "<hr style = \"height:5px; background-color: blue; border-color:blue;\">\n",
    "<hr style = \"height:5px; background-color: #89CFF0; border-color:#89CFF0;\">\n",
    "<hr style = \"height:5px; background-color: black; border-color:black;\">\n",
    "\n",
    "### Now you try\n",
    " Use the data sets above to create a different dataset layout for full_country\n",
    " \n",
    " 1. Experiment with different join types, what happens to the shape of full_country?\n",
    " 2. Experiment with leaving duplicates in, what happens to our end result?\n",
    " 3. Does changing the order of the tables or order you join in change the end result?\n",
    " 4. If possible practice usng joins on your own data \n",
    " \n",
    " We will discuss our findings as a group"
   ]
  },
  {
   "cell_type": "code",
   "execution_count": 72,
   "metadata": {},
   "outputs": [
    {
     "data": {
      "text/plain": [
       "(262, 15)"
      ]
     },
     "execution_count": 72,
     "metadata": {},
     "output_type": "execute_result"
    }
   ],
   "source": [
    "# code here\n",
    "\n",
    "table1 = pd.read_csv('../Assets/Data/Country-cleaned-data.csv').drop('Unnamed: 0',axis = 1)\n",
    "table2 = pd.read_csv('../Assets/Data/country-groups.csv')\n",
    "\n",
    "table1.merge(table2,left_on = 'country', right_on = 'cleaned_country', how = 'right').shape\n",
    "# pd.merge(table1,table2, left_on = 'country', right_on = 'cleaned_country', how = 'left').shape"
   ]
  },
  {
   "attachments": {},
   "cell_type": "markdown",
   "metadata": {},
   "source": [
    "<hr style = \"height:5px; background-color: blue; border-color:blue;\">\n",
    "<hr style = \"height:5px; background-color: #89CFF0; border-color:#89CFF0;\">\n",
    "<hr style = \"height:5px; background-color: black; border-color:black;\">\n",
    "\n",
    "### Grouping"
   ]
  },
  {
   "attachments": {},
   "cell_type": "markdown",
   "metadata": {},
   "source": [
    "#### Groupby"
   ]
  },
  {
   "cell_type": "code",
   "execution_count": 75,
   "metadata": {},
   "outputs": [
    {
     "data": {
      "text/html": [
       "<div>\n",
       "<style scoped>\n",
       "    .dataframe tbody tr th:only-of-type {\n",
       "        vertical-align: middle;\n",
       "    }\n",
       "\n",
       "    .dataframe tbody tr th {\n",
       "        vertical-align: top;\n",
       "    }\n",
       "\n",
       "    .dataframe thead th {\n",
       "        text-align: right;\n",
       "    }\n",
       "</style>\n",
       "<table border=\"1\" class=\"dataframe\">\n",
       "  <thead>\n",
       "    <tr style=\"text-align: right;\">\n",
       "      <th></th>\n",
       "      <th>gdpp</th>\n",
       "    </tr>\n",
       "    <tr>\n",
       "      <th>Continent_Name</th>\n",
       "      <th></th>\n",
       "    </tr>\n",
       "  </thead>\n",
       "  <tbody>\n",
       "    <tr>\n",
       "      <th>Africa</th>\n",
       "      <td>2524.674419</td>\n",
       "    </tr>\n",
       "    <tr>\n",
       "      <th>Asia</th>\n",
       "      <td>11585.000000</td>\n",
       "    </tr>\n",
       "    <tr>\n",
       "      <th>Europe</th>\n",
       "      <td>26405.071429</td>\n",
       "    </tr>\n",
       "    <tr>\n",
       "      <th>North America</th>\n",
       "      <td>11400.153846</td>\n",
       "    </tr>\n",
       "    <tr>\n",
       "      <th>Oceania</th>\n",
       "      <td>12750.000000</td>\n",
       "    </tr>\n",
       "    <tr>\n",
       "      <th>South America</th>\n",
       "      <td>8209.090909</td>\n",
       "    </tr>\n",
       "  </tbody>\n",
       "</table>\n",
       "</div>"
      ],
      "text/plain": [
       "                        gdpp\n",
       "Continent_Name              \n",
       "Africa           2524.674419\n",
       "Asia            11585.000000\n",
       "Europe          26405.071429\n",
       "North America   11400.153846\n",
       "Oceania         12750.000000\n",
       "South America    8209.090909"
      ]
     },
     "execution_count": 75,
     "metadata": {},
     "output_type": "execute_result"
    }
   ],
   "source": [
    "# you can use group by to group data by a categorical field\n",
    "gdp_by_continent = full_country.groupby('Continent_Name')[['gdpp']].mean()\n",
    "\n",
    "# output the resulting table\n",
    "gdp_by_continent"
   ]
  },
  {
   "cell_type": "code",
   "execution_count": 76,
   "metadata": {},
   "outputs": [
    {
     "data": {
      "text/html": [
       "<div>\n",
       "<style scoped>\n",
       "    .dataframe tbody tr th:only-of-type {\n",
       "        vertical-align: middle;\n",
       "    }\n",
       "\n",
       "    .dataframe tbody tr th {\n",
       "        vertical-align: top;\n",
       "    }\n",
       "\n",
       "    .dataframe thead th {\n",
       "        text-align: right;\n",
       "    }\n",
       "</style>\n",
       "<table border=\"1\" class=\"dataframe\">\n",
       "  <thead>\n",
       "    <tr style=\"text-align: right;\">\n",
       "      <th></th>\n",
       "      <th>health</th>\n",
       "      <th>gdpp</th>\n",
       "    </tr>\n",
       "    <tr>\n",
       "      <th>Continent_Name</th>\n",
       "      <th></th>\n",
       "      <th></th>\n",
       "    </tr>\n",
       "  </thead>\n",
       "  <tbody>\n",
       "    <tr>\n",
       "      <th>Africa</th>\n",
       "      <td>6.188333</td>\n",
       "      <td>2524.674419</td>\n",
       "    </tr>\n",
       "    <tr>\n",
       "      <th>South America</th>\n",
       "      <td>7.029091</td>\n",
       "      <td>8209.090909</td>\n",
       "    </tr>\n",
       "    <tr>\n",
       "      <th>North America</th>\n",
       "      <td>7.303846</td>\n",
       "      <td>11400.153846</td>\n",
       "    </tr>\n",
       "    <tr>\n",
       "      <th>Asia</th>\n",
       "      <td>4.993714</td>\n",
       "      <td>11585.000000</td>\n",
       "    </tr>\n",
       "    <tr>\n",
       "      <th>Oceania</th>\n",
       "      <td>7.541250</td>\n",
       "      <td>12750.000000</td>\n",
       "    </tr>\n",
       "    <tr>\n",
       "      <th>Europe</th>\n",
       "      <td>8.609524</td>\n",
       "      <td>26405.071429</td>\n",
       "    </tr>\n",
       "  </tbody>\n",
       "</table>\n",
       "</div>"
      ],
      "text/plain": [
       "                  health          gdpp\n",
       "Continent_Name                        \n",
       "Africa          6.188333   2524.674419\n",
       "South America   7.029091   8209.090909\n",
       "North America   7.303846  11400.153846\n",
       "Asia            4.993714  11585.000000\n",
       "Oceania         7.541250  12750.000000\n",
       "Europe          8.609524  26405.071429"
      ]
     },
     "execution_count": 76,
     "metadata": {},
     "output_type": "execute_result"
    }
   ],
   "source": [
    "# to sort and selec key fields add a sort_values and [[]] to select columns\n",
    "gdp_by_continent = full_country.groupby('Continent_Name').mean().sort_values('gdpp')[['health','gdpp']]\n",
    "\n",
    "#output the resulting table\n",
    "gdp_by_continent"
   ]
  },
  {
   "attachments": {},
   "cell_type": "markdown",
   "metadata": {},
   "source": [
    "<hr style = \"height:5px; background-color: blue; border-color:blue;\">\n",
    "<hr style = \"height:5px; background-color: #89CFF0; border-color:#89CFF0;\">\n",
    "<hr style = \"height:5px; background-color: black; border-color:black;\">\n",
    "\n",
    "### Now you try\n",
    " Using your cleaned data set from last week (or one of the practice sets)\n",
    " \n",
    " \n",
    " 1. Apply a grouping to your data output the result as a new dataframe\n",
    " 2. Apply another grouping output it as another new data frame\n"
   ]
  },
  {
   "cell_type": "code",
   "execution_count": 84,
   "metadata": {},
   "outputs": [
    {
     "data": {
      "text/html": [
       "<div>\n",
       "<style scoped>\n",
       "    .dataframe tbody tr th:only-of-type {\n",
       "        vertical-align: middle;\n",
       "    }\n",
       "\n",
       "    .dataframe tbody tr th {\n",
       "        vertical-align: top;\n",
       "    }\n",
       "\n",
       "    .dataframe thead th {\n",
       "        text-align: right;\n",
       "    }\n",
       "</style>\n",
       "<table border=\"1\" class=\"dataframe\">\n",
       "  <thead>\n",
       "    <tr style=\"text-align: right;\">\n",
       "      <th></th>\n",
       "      <th>child_mort</th>\n",
       "      <th>exports</th>\n",
       "      <th>health</th>\n",
       "      <th>imports</th>\n",
       "      <th>income</th>\n",
       "      <th>inflation</th>\n",
       "      <th>life_expec</th>\n",
       "      <th>total_fer</th>\n",
       "      <th>gdpp</th>\n",
       "      <th>Country_Number</th>\n",
       "    </tr>\n",
       "    <tr>\n",
       "      <th>Continent_Name</th>\n",
       "      <th></th>\n",
       "      <th></th>\n",
       "      <th></th>\n",
       "      <th></th>\n",
       "      <th></th>\n",
       "      <th></th>\n",
       "      <th></th>\n",
       "      <th></th>\n",
       "      <th></th>\n",
       "      <th></th>\n",
       "    </tr>\n",
       "  </thead>\n",
       "  <tbody>\n",
       "    <tr>\n",
       "      <th>Africa</th>\n",
       "      <td>3465.5</td>\n",
       "      <td>1318.810</td>\n",
       "      <td>259.91</td>\n",
       "      <td>1833.1000</td>\n",
       "      <td>227434.0</td>\n",
       "      <td>444.336</td>\n",
       "      <td>2631.2</td>\n",
       "      <td>199.94</td>\n",
       "      <td>108561.0</td>\n",
       "      <td>19640.0</td>\n",
       "    </tr>\n",
       "    <tr>\n",
       "      <th>Asia</th>\n",
       "      <td>1105.0</td>\n",
       "      <td>1547.189</td>\n",
       "      <td>174.78</td>\n",
       "      <td>1563.7659</td>\n",
       "      <td>720700.0</td>\n",
       "      <td>373.722</td>\n",
       "      <td>2533.5</td>\n",
       "      <td>96.89</td>\n",
       "      <td>405475.0</td>\n",
       "      <td>15697.0</td>\n",
       "    </tr>\n",
       "    <tr>\n",
       "      <th>Europe</th>\n",
       "      <td>343.2</td>\n",
       "      <td>2179.900</td>\n",
       "      <td>361.60</td>\n",
       "      <td>2252.9000</td>\n",
       "      <td>1182740.0</td>\n",
       "      <td>154.175</td>\n",
       "      <td>3241.4</td>\n",
       "      <td>68.04</td>\n",
       "      <td>1109013.0</td>\n",
       "      <td>16345.0</td>\n",
       "    </tr>\n",
       "    <tr>\n",
       "      <th>North America</th>\n",
       "      <td>422.3</td>\n",
       "      <td>456.300</td>\n",
       "      <td>94.95</td>\n",
       "      <td>632.7000</td>\n",
       "      <td>180090.0</td>\n",
       "      <td>43.508</td>\n",
       "      <td>936.3</td>\n",
       "      <td>30.64</td>\n",
       "      <td>148202.0</td>\n",
       "      <td>2895.0</td>\n",
       "    </tr>\n",
       "    <tr>\n",
       "      <th>Oceania</th>\n",
       "      <td>191.4</td>\n",
       "      <td>258.700</td>\n",
       "      <td>60.33</td>\n",
       "      <td>440.0000</td>\n",
       "      <td>97890.0</td>\n",
       "      <td>25.470</td>\n",
       "      <td>555.0</td>\n",
       "      <td>26.60</td>\n",
       "      <td>102000.0</td>\n",
       "      <td>3424.0</td>\n",
       "    </tr>\n",
       "    <tr>\n",
       "      <th>South America</th>\n",
       "      <td>220.5</td>\n",
       "      <td>352.700</td>\n",
       "      <td>77.32</td>\n",
       "      <td>345.1000</td>\n",
       "      <td>143740.0</td>\n",
       "      <td>125.150</td>\n",
       "      <td>821.8</td>\n",
       "      <td>25.71</td>\n",
       "      <td>90300.0</td>\n",
       "      <td>4640.0</td>\n",
       "    </tr>\n",
       "  </tbody>\n",
       "</table>\n",
       "</div>"
      ],
      "text/plain": [
       "                child_mort   exports  health    imports     income  inflation  \\\n",
       "Continent_Name                                                                  \n",
       "Africa              3465.5  1318.810  259.91  1833.1000   227434.0    444.336   \n",
       "Asia                1105.0  1547.189  174.78  1563.7659   720700.0    373.722   \n",
       "Europe               343.2  2179.900  361.60  2252.9000  1182740.0    154.175   \n",
       "North America        422.3   456.300   94.95   632.7000   180090.0     43.508   \n",
       "Oceania              191.4   258.700   60.33   440.0000    97890.0     25.470   \n",
       "South America        220.5   352.700   77.32   345.1000   143740.0    125.150   \n",
       "\n",
       "                life_expec  total_fer       gdpp  Country_Number  \n",
       "Continent_Name                                                    \n",
       "Africa              2631.2     199.94   108561.0         19640.0  \n",
       "Asia                2533.5      96.89   405475.0         15697.0  \n",
       "Europe              3241.4      68.04  1109013.0         16345.0  \n",
       "North America        936.3      30.64   148202.0          2895.0  \n",
       "Oceania              555.0      26.60   102000.0          3424.0  \n",
       "South America        821.8      25.71    90300.0          4640.0  "
      ]
     },
     "execution_count": 84,
     "metadata": {},
     "output_type": "execute_result"
    }
   ],
   "source": [
    "# code here\n",
    "full_country.groupby('Continent_Name').sum()"
   ]
  },
  {
   "attachments": {},
   "cell_type": "markdown",
   "metadata": {},
   "source": [
    "<hr style = \"height:5px; background-color: blue; border-color:blue;\">\n",
    "<hr style = \"height:5px; background-color: #89CFF0; border-color:#89CFF0;\">\n",
    "<hr style = \"height:5px; background-color: black; border-color:black;\">\n",
    "\n",
    "### Visualising"
   ]
  },
  {
   "cell_type": "code",
   "execution_count": 95,
   "metadata": {},
   "outputs": [
    {
     "data": {
      "image/png": "[encoded data removed]",
      "text/plain": [
       "<Figure size 864x504 with 1 Axes>"
      ]
     },
     "metadata": {},
     "output_type": "display_data"
    }
   ],
   "source": [
    "# plot data in  bar chart\n",
    "\n",
    "# set up a figure and set of axis to plot on\n",
    "fig1,ax = plt.subplots(figsize=(12,7))\n",
    "\n",
    "# plot bar graph using .bar\n",
    "ax.bar(gdp_by_continent.index, gdp_by_continent['health']);"
   ]
  },
  {
   "cell_type": "code",
   "execution_count": 96,
   "metadata": {},
   "outputs": [
    {
     "data": {
      "image/png": "[encoded data removed]",
      "text/plain": [
       "<Figure size 864x504 with 1 Axes>"
      ]
     },
     "metadata": {},
     "output_type": "display_data"
    }
   ],
   "source": [
    "# set up a figure and set of axis to plot on\n",
    "fig2,ax = plt.subplots(figsize=(12,7))\n",
    "\n",
    "#use seaborn to plot \n",
    "sns.barplot(x = gdp_by_continent.index,y= gdp_by_continent['health']);"
   ]
  },
  {
   "cell_type": "code",
   "execution_count": 88,
   "metadata": {},
   "outputs": [
    {
     "data": {
      "text/html": [
       "<div>\n",
       "<style scoped>\n",
       "    .dataframe tbody tr th:only-of-type {\n",
       "        vertical-align: middle;\n",
       "    }\n",
       "\n",
       "    .dataframe tbody tr th {\n",
       "        vertical-align: top;\n",
       "    }\n",
       "\n",
       "    .dataframe thead th {\n",
       "        text-align: right;\n",
       "    }\n",
       "</style>\n",
       "<table border=\"1\" class=\"dataframe\">\n",
       "  <thead>\n",
       "    <tr style=\"text-align: right;\">\n",
       "      <th></th>\n",
       "      <th>views_change</th>\n",
       "    </tr>\n",
       "    <tr>\n",
       "      <th>days_since_release</th>\n",
       "      <th></th>\n",
       "    </tr>\n",
       "  </thead>\n",
       "  <tbody>\n",
       "    <tr>\n",
       "      <th>0</th>\n",
       "      <td>1.363229e+06</td>\n",
       "    </tr>\n",
       "    <tr>\n",
       "      <th>1</th>\n",
       "      <td>1.140361e+06</td>\n",
       "    </tr>\n",
       "    <tr>\n",
       "      <th>2</th>\n",
       "      <td>8.786818e+05</td>\n",
       "    </tr>\n",
       "    <tr>\n",
       "      <th>3</th>\n",
       "      <td>5.223446e+05</td>\n",
       "    </tr>\n",
       "    <tr>\n",
       "      <th>4</th>\n",
       "      <td>6.603268e+05</td>\n",
       "    </tr>\n",
       "  </tbody>\n",
       "</table>\n",
       "</div>"
      ],
      "text/plain": [
       "                    views_change\n",
       "days_since_release              \n",
       "0                   1.363229e+06\n",
       "1                   1.140361e+06\n",
       "2                   8.786818e+05\n",
       "3                   5.223446e+05\n",
       "4                   6.603268e+05"
      ]
     },
     "execution_count": 88,
     "metadata": {},
     "output_type": "execute_result"
    }
   ],
   "source": [
    "# load in a demo ts from github hosted data\n",
    "df = pd.read_csv(\"https://raw.githubusercontent.com/NickGMV/online-data-hosting/main/Workshop2/mr_feast_views.csv\")\n",
    "# create grouped table to plot\n",
    "dsr = df.groupby('days_since_release').mean()[['views_change']]#.sort_values('views_change')\n",
    "# take a quick peek\n",
    "dsr.head()"
   ]
  },
  {
   "cell_type": "code",
   "execution_count": 94,
   "metadata": {},
   "outputs": [
    {
     "data": {
      "image/png": "[encoded data removed]",
      "text/plain": [
       "<Figure size 504x504 with 1 Axes>"
      ]
     },
     "metadata": {},
     "output_type": "display_data"
    }
   ],
   "source": [
    "# plot this as a time series\n",
    "fig3,ax = plt.subplots(figsize=(7,7))\n",
    "\n",
    "# set labels \n",
    "ax.set_xlabel('days since release')\n",
    "ax.set_ylabel('average change in views')\n",
    "\n",
    "#plot using matplotlib\n",
    "ax.plot(dsr.index, dsr['views_change']);\n"
   ]
  },
  {
   "cell_type": "code",
   "execution_count": 93,
   "metadata": {},
   "outputs": [
    {
     "data": {
      "image/png": "[encoded data removed]",
      "text/plain": [
       "<Figure size 504x504 with 1 Axes>"
      ]
     },
     "metadata": {},
     "output_type": "display_data"
    }
   ],
   "source": [
    "# plot this as a time series\n",
    "fig4,ax = plt.subplots(figsize=(7,7))\n",
    "\n",
    "#set labels\n",
    "ax.set_xlabel('days since release')\n",
    "ax.set_ylabel('average change in views')\n",
    "\n",
    "# plot using seaborn\n",
    "sns.lineplot(x= dsr.index, y = dsr['views_change']);"
   ]
  },
  {
   "attachments": {},
   "cell_type": "markdown",
   "metadata": {},
   "source": [
    "##### Changing plot styles and exporting"
   ]
  },
  {
   "cell_type": "code",
   "execution_count": 91,
   "metadata": {},
   "outputs": [
    {
     "data": {
      "text/plain": [
       "['Solarize_Light2',\n",
       " '_classic_test_patch',\n",
       " 'bmh',\n",
       " 'classic',\n",
       " 'dark_background',\n",
       " 'fast',\n",
       " 'fivethirtyeight',\n",
       " 'ggplot',\n",
       " 'grayscale',\n",
       " 'seaborn',\n",
       " 'seaborn-bright',\n",
       " 'seaborn-colorblind',\n",
       " 'seaborn-dark',\n",
       " 'seaborn-dark-palette',\n",
       " 'seaborn-darkgrid',\n",
       " 'seaborn-deep',\n",
       " 'seaborn-muted',\n",
       " 'seaborn-notebook',\n",
       " 'seaborn-paper',\n",
       " 'seaborn-pastel',\n",
       " 'seaborn-poster',\n",
       " 'seaborn-talk',\n",
       " 'seaborn-ticks',\n",
       " 'seaborn-white',\n",
       " 'seaborn-whitegrid',\n",
       " 'tableau-colorblind10']"
      ]
     },
     "execution_count": 91,
     "metadata": {},
     "output_type": "execute_result"
    }
   ],
   "source": [
    "# You can add styles\n",
    "plt.style.available"
   ]
  },
  {
   "cell_type": "code",
   "execution_count": 92,
   "metadata": {},
   "outputs": [],
   "source": [
    "# make our notebook use a particular style pre-set\n",
    "plt.style.use('ggplot')"
   ]
  },
  {
   "cell_type": "code",
   "execution_count": 97,
   "metadata": {},
   "outputs": [],
   "source": [
    "# output figures as png/jpg\n",
    "fig4.savefig('../Assets/Charts/demoimg.png')"
   ]
  },
  {
   "cell_type": "code",
   "execution_count": 98,
   "metadata": {},
   "outputs": [],
   "source": [
    "# we could build a loop to output our figures\n",
    "i = 1\n",
    "for f in [fig1, fig2, fig3, fig4]:\n",
    "    f.savefig(f'../Assets/Charts/demo{i}.png')\n",
    "    i+=1"
   ]
  },
  {
   "attachments": {},
   "cell_type": "markdown",
   "metadata": {},
   "source": [
    "<hr style = \"height:5px; background-color: blue; border-color:blue;\">\n",
    "<hr style = \"height:5px; background-color: #89CFF0; border-color:#89CFF0;\">\n",
    "<hr style = \"height:5px; background-color: black; border-color:black;\">\n",
    "\n",
    "### Now you try\n",
    " Using your cleaned data set from last week (or one of the practice sets)\n",
    " \n",
    " 1. Plot your data using matplotlib\n",
    " 2. Plot your data using Seaborn\n",
    " 3. Set a new overall visualisation style\n",
    " 4. Can you output you visuals?"
   ]
  },
  {
   "cell_type": "code",
   "execution_count": 30,
   "metadata": {},
   "outputs": [],
   "source": [
    "# code here"
   ]
  },
  {
   "attachments": {},
   "cell_type": "markdown",
   "metadata": {},
   "source": [
    "<hr style = \"height:5px; background-color: blue; border-color:blue;\">\n",
    "<hr style = \"height:5px; background-color: #89CFF0; border-color:#89CFF0;\">\n",
    "<hr style = \"height:5px; background-color: black; border-color:black;\">\n",
    "\n",
    "\n",
    "### See you next time\n",
    "\n",
    "\n",
    "<hr style = \"height:5px; background-color: blue; border-color:blue;\">\n",
    "<hr style = \"height:5px; background-color: #89CFF0; border-color:#89CFF0;\">\n",
    "<hr style = \"height:5px; background-color: black; border-color:black;\">"
   ]
  },
  {
   "cell_type": "code",
   "execution_count": null,
   "metadata": {},
   "outputs": [],
   "source": []
  }
 ],
 "metadata": {
  "kernelspec": {
   "display_name": "Python 3",
   "language": "python",
   "name": "python3"
  },
  "language_info": {
   "codemirror_mode": {
    "name": "ipython",
    "version": 3
   },
   "file_extension": ".py",
   "mimetype": "text/x-python",
   "name": "python",
   "nbconvert_exporter": "python",
   "pygments_lexer": "ipython3",
   "version": "3.8.5"
  }
 },
 "nbformat": 4,
 "nbformat_minor": 4
}
